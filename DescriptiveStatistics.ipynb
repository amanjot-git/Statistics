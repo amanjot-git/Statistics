{
 "cells": [
  {
   "cell_type": "code",
   "execution_count": null,
   "id": "9676cc24",
   "metadata": {},
   "outputs": [],
   "source": [
    "# Measures of Central Tendency:\n",
    "#- Mean -> Sum of all values divided by the number of values\n",
    "#- Trimmed mean -> is an average computed after discarding a certain percentage of the highest and \n",
    "#    lowest values to reduce the effect of outliers.\n",
    "#- Weighted Mean -> The sum of all values times the weight divided by the sum of the weight\n",
    "#- Median -> The value such that one half of the data lies above and below\n",
    "#- Weighted Median -> The value such that one half of the sum of the weights lies above and below the sorted data\n",
    "#- Percentile -> The value such that P percent of the data lies below\n",
    "#- Quartile -> Quartiles are a set of three points that divide a dataset into four equal parts, each containing 25% of the data.\n",
    "#- Mode -> The mode is the value that appears most frequently in a data set."
   ]
  },
  {
   "cell_type": "code",
   "execution_count": 2,
   "id": "e548e45d",
   "metadata": {},
   "outputs": [],
   "source": [
    "# import libraries\n",
    "import numpy as np\n",
    "import pandas as pd\n"
   ]
  },
  {
   "cell_type": "code",
   "execution_count": 2,
   "id": "754898f3",
   "metadata": {},
   "outputs": [
    {
     "data": {
      "text/html": [
       "<div>\n",
       "<style scoped>\n",
       "    .dataframe tbody tr th:only-of-type {\n",
       "        vertical-align: middle;\n",
       "    }\n",
       "\n",
       "    .dataframe tbody tr th {\n",
       "        vertical-align: top;\n",
       "    }\n",
       "\n",
       "    .dataframe thead th {\n",
       "        text-align: right;\n",
       "    }\n",
       "</style>\n",
       "<table border=\"1\" class=\"dataframe\">\n",
       "  <thead>\n",
       "    <tr style=\"text-align: right;\">\n",
       "      <th></th>\n",
       "      <th>State</th>\n",
       "      <th>Population</th>\n",
       "      <th>Murder Rate</th>\n",
       "    </tr>\n",
       "  </thead>\n",
       "  <tbody>\n",
       "    <tr>\n",
       "      <th>0</th>\n",
       "      <td>Uttar Pradesh</td>\n",
       "      <td>200000000</td>\n",
       "      <td>2.5</td>\n",
       "    </tr>\n",
       "    <tr>\n",
       "      <th>1</th>\n",
       "      <td>Maharashtra</td>\n",
       "      <td>112374333</td>\n",
       "      <td>1.8</td>\n",
       "    </tr>\n",
       "    <tr>\n",
       "      <th>2</th>\n",
       "      <td>Bihar</td>\n",
       "      <td>104099452</td>\n",
       "      <td>3.2</td>\n",
       "    </tr>\n",
       "    <tr>\n",
       "      <th>3</th>\n",
       "      <td>West Bengal</td>\n",
       "      <td>91276115</td>\n",
       "      <td>2.9</td>\n",
       "    </tr>\n",
       "    <tr>\n",
       "      <th>4</th>\n",
       "      <td>Madhya Pradesh</td>\n",
       "      <td>72626809</td>\n",
       "      <td>2.7</td>\n",
       "    </tr>\n",
       "    <tr>\n",
       "      <th>5</th>\n",
       "      <td>Tamil Nadu</td>\n",
       "      <td>72147030</td>\n",
       "      <td>1.6</td>\n",
       "    </tr>\n",
       "    <tr>\n",
       "      <th>6</th>\n",
       "      <td>Rajasthan</td>\n",
       "      <td>68548437</td>\n",
       "      <td>2.0</td>\n",
       "    </tr>\n",
       "    <tr>\n",
       "      <th>7</th>\n",
       "      <td>Karnataka</td>\n",
       "      <td>61095297</td>\n",
       "      <td>2.1</td>\n",
       "    </tr>\n",
       "    <tr>\n",
       "      <th>8</th>\n",
       "      <td>Gujarat</td>\n",
       "      <td>60439692</td>\n",
       "      <td>1.9</td>\n",
       "    </tr>\n",
       "    <tr>\n",
       "      <th>9</th>\n",
       "      <td>Goa</td>\n",
       "      <td>41974218</td>\n",
       "      <td>10.0</td>\n",
       "    </tr>\n",
       "  </tbody>\n",
       "</table>\n",
       "</div>"
      ],
      "text/plain": [
       "            State  Population  Murder Rate\n",
       "0   Uttar Pradesh   200000000          2.5\n",
       "1     Maharashtra   112374333          1.8\n",
       "2           Bihar   104099452          3.2\n",
       "3     West Bengal    91276115          2.9\n",
       "4  Madhya Pradesh    72626809          2.7\n",
       "5      Tamil Nadu    72147030          1.6\n",
       "6       Rajasthan    68548437          2.0\n",
       "7       Karnataka    61095297          2.1\n",
       "8         Gujarat    60439692          1.9\n",
       "9             Goa    41974218         10.0"
      ]
     },
     "execution_count": 2,
     "metadata": {},
     "output_type": "execute_result"
    }
   ],
   "source": [
    "# Creating a dummy DataFrame\n",
    "df = pd.DataFrame({\n",
    "    'State':['Uttar Pradesh', 'Maharashtra', 'Bihar', 'West Bengal', 'Madhya Pradesh',\n",
    "              'Tamil Nadu', 'Rajasthan', 'Karnataka', 'Gujarat', 'Goa'],\n",
    "    'Population':[200000000, 112374333, 104099452, 91276115, 72626809,\n",
    "                   72147030, 68548437, 61095297, 60439692, 41974218],\n",
    "    'Murder Rate':[2.5, 1.8, 3.2, 2.9, 2.7, 1.6, 2.0, 2.1, 1.9, 10.0]\n",
    "})\n",
    "df\n"
   ]
  },
  {
   "cell_type": "code",
   "execution_count": 6,
   "id": "273d3338",
   "metadata": {},
   "outputs": [
    {
     "data": {
      "text/html": [
       "<div>\n",
       "<style scoped>\n",
       "    .dataframe tbody tr th:only-of-type {\n",
       "        vertical-align: middle;\n",
       "    }\n",
       "\n",
       "    .dataframe tbody tr th {\n",
       "        vertical-align: top;\n",
       "    }\n",
       "\n",
       "    .dataframe thead th {\n",
       "        text-align: right;\n",
       "    }\n",
       "</style>\n",
       "<table border=\"1\" class=\"dataframe\">\n",
       "  <thead>\n",
       "    <tr style=\"text-align: right;\">\n",
       "      <th></th>\n",
       "      <th>Population</th>\n",
       "      <th>Murder Rate</th>\n",
       "    </tr>\n",
       "  </thead>\n",
       "  <tbody>\n",
       "    <tr>\n",
       "      <th>count</th>\n",
       "      <td>1.000000e+01</td>\n",
       "      <td>10.00000</td>\n",
       "    </tr>\n",
       "    <tr>\n",
       "      <th>mean</th>\n",
       "      <td>8.845814e+07</td>\n",
       "      <td>3.07000</td>\n",
       "    </tr>\n",
       "    <tr>\n",
       "      <th>std</th>\n",
       "      <td>4.456426e+07</td>\n",
       "      <td>2.48911</td>\n",
       "    </tr>\n",
       "    <tr>\n",
       "      <th>min</th>\n",
       "      <td>4.197422e+07</td>\n",
       "      <td>1.60000</td>\n",
       "    </tr>\n",
       "    <tr>\n",
       "      <th>25%</th>\n",
       "      <td>6.295858e+07</td>\n",
       "      <td>1.92500</td>\n",
       "    </tr>\n",
       "    <tr>\n",
       "      <th>50%</th>\n",
       "      <td>7.238692e+07</td>\n",
       "      <td>2.30000</td>\n",
       "    </tr>\n",
       "    <tr>\n",
       "      <th>75%</th>\n",
       "      <td>1.008936e+08</td>\n",
       "      <td>2.85000</td>\n",
       "    </tr>\n",
       "    <tr>\n",
       "      <th>max</th>\n",
       "      <td>2.000000e+08</td>\n",
       "      <td>10.00000</td>\n",
       "    </tr>\n",
       "  </tbody>\n",
       "</table>\n",
       "</div>"
      ],
      "text/plain": [
       "         Population  Murder Rate\n",
       "count  1.000000e+01     10.00000\n",
       "mean   8.845814e+07      3.07000\n",
       "std    4.456426e+07      2.48911\n",
       "min    4.197422e+07      1.60000\n",
       "25%    6.295858e+07      1.92500\n",
       "50%    7.238692e+07      2.30000\n",
       "75%    1.008936e+08      2.85000\n",
       "max    2.000000e+08     10.00000"
      ]
     },
     "execution_count": 6,
     "metadata": {},
     "output_type": "execute_result"
    }
   ],
   "source": [
    "df.describe()"
   ]
  },
  {
   "cell_type": "code",
   "execution_count": 8,
   "id": "111444c7",
   "metadata": {},
   "outputs": [
    {
     "data": {
      "text/plain": [
       "count    10.00000\n",
       "mean      3.07000\n",
       "std       2.48911\n",
       "min       1.60000\n",
       "25%       1.92500\n",
       "50%       2.30000\n",
       "75%       2.85000\n",
       "max      10.00000\n",
       "Name: Murder Rate, dtype: float64"
      ]
     },
     "execution_count": 8,
     "metadata": {},
     "output_type": "execute_result"
    }
   ],
   "source": [
    "df['Murder Rate'].describe()"
   ]
  },
  {
   "cell_type": "code",
   "execution_count": 11,
   "id": "bb05ec8f",
   "metadata": {},
   "outputs": [
    {
     "data": {
      "text/html": [
       "<div>\n",
       "<style scoped>\n",
       "    .dataframe tbody tr th:only-of-type {\n",
       "        vertical-align: middle;\n",
       "    }\n",
       "\n",
       "    .dataframe tbody tr th {\n",
       "        vertical-align: top;\n",
       "    }\n",
       "\n",
       "    .dataframe thead th {\n",
       "        text-align: right;\n",
       "    }\n",
       "</style>\n",
       "<table border=\"1\" class=\"dataframe\">\n",
       "  <thead>\n",
       "    <tr style=\"text-align: right;\">\n",
       "      <th></th>\n",
       "      <th>State</th>\n",
       "      <th>Population</th>\n",
       "      <th>Murder Rate</th>\n",
       "    </tr>\n",
       "  </thead>\n",
       "  <tbody>\n",
       "    <tr>\n",
       "      <th>count</th>\n",
       "      <td>10</td>\n",
       "      <td>1.000000e+01</td>\n",
       "      <td>10.00000</td>\n",
       "    </tr>\n",
       "    <tr>\n",
       "      <th>unique</th>\n",
       "      <td>10</td>\n",
       "      <td>NaN</td>\n",
       "      <td>NaN</td>\n",
       "    </tr>\n",
       "    <tr>\n",
       "      <th>top</th>\n",
       "      <td>Uttar Pradesh</td>\n",
       "      <td>NaN</td>\n",
       "      <td>NaN</td>\n",
       "    </tr>\n",
       "    <tr>\n",
       "      <th>freq</th>\n",
       "      <td>1</td>\n",
       "      <td>NaN</td>\n",
       "      <td>NaN</td>\n",
       "    </tr>\n",
       "    <tr>\n",
       "      <th>mean</th>\n",
       "      <td>NaN</td>\n",
       "      <td>8.845814e+07</td>\n",
       "      <td>3.07000</td>\n",
       "    </tr>\n",
       "    <tr>\n",
       "      <th>std</th>\n",
       "      <td>NaN</td>\n",
       "      <td>4.456426e+07</td>\n",
       "      <td>2.48911</td>\n",
       "    </tr>\n",
       "    <tr>\n",
       "      <th>min</th>\n",
       "      <td>NaN</td>\n",
       "      <td>4.197422e+07</td>\n",
       "      <td>1.60000</td>\n",
       "    </tr>\n",
       "    <tr>\n",
       "      <th>25%</th>\n",
       "      <td>NaN</td>\n",
       "      <td>6.295858e+07</td>\n",
       "      <td>1.92500</td>\n",
       "    </tr>\n",
       "    <tr>\n",
       "      <th>50%</th>\n",
       "      <td>NaN</td>\n",
       "      <td>7.238692e+07</td>\n",
       "      <td>2.30000</td>\n",
       "    </tr>\n",
       "    <tr>\n",
       "      <th>75%</th>\n",
       "      <td>NaN</td>\n",
       "      <td>1.008936e+08</td>\n",
       "      <td>2.85000</td>\n",
       "    </tr>\n",
       "    <tr>\n",
       "      <th>max</th>\n",
       "      <td>NaN</td>\n",
       "      <td>2.000000e+08</td>\n",
       "      <td>10.00000</td>\n",
       "    </tr>\n",
       "  </tbody>\n",
       "</table>\n",
       "</div>"
      ],
      "text/plain": [
       "                State    Population  Murder Rate\n",
       "count              10  1.000000e+01     10.00000\n",
       "unique             10           NaN          NaN\n",
       "top     Uttar Pradesh           NaN          NaN\n",
       "freq                1           NaN          NaN\n",
       "mean              NaN  8.845814e+07      3.07000\n",
       "std               NaN  4.456426e+07      2.48911\n",
       "min               NaN  4.197422e+07      1.60000\n",
       "25%               NaN  6.295858e+07      1.92500\n",
       "50%               NaN  7.238692e+07      2.30000\n",
       "75%               NaN  1.008936e+08      2.85000\n",
       "max               NaN  2.000000e+08     10.00000"
      ]
     },
     "execution_count": 11,
     "metadata": {},
     "output_type": "execute_result"
    }
   ],
   "source": [
    "df.describe(include='all')"
   ]
  },
  {
   "cell_type": "code",
   "execution_count": 15,
   "id": "aaf2046c",
   "metadata": {},
   "outputs": [
    {
     "data": {
      "text/plain": [
       "count                10\n",
       "unique               10\n",
       "top       Uttar Pradesh\n",
       "freq                  1\n",
       "Name: State, dtype: object"
      ]
     },
     "execution_count": 15,
     "metadata": {},
     "output_type": "execute_result"
    }
   ],
   "source": [
    "df.State.describe()"
   ]
  },
  {
   "cell_type": "code",
   "execution_count": 16,
   "id": "ff4a22bb",
   "metadata": {},
   "outputs": [
    {
     "data": {
      "text/plain": [
       "count    1.000000e+01\n",
       "mean     8.845814e+07\n",
       "std      4.456426e+07\n",
       "min      4.197422e+07\n",
       "25%      6.295858e+07\n",
       "50%      7.238692e+07\n",
       "75%      1.008936e+08\n",
       "max      2.000000e+08\n",
       "Name: Population, dtype: float64"
      ]
     },
     "execution_count": 16,
     "metadata": {},
     "output_type": "execute_result"
    }
   ],
   "source": [
    "df.Population.describe()"
   ]
  },
  {
   "cell_type": "code",
   "execution_count": 27,
   "id": "0d98c6d1",
   "metadata": {},
   "outputs": [
    {
     "data": {
      "text/html": [
       "<div>\n",
       "<style scoped>\n",
       "    .dataframe tbody tr th:only-of-type {\n",
       "        vertical-align: middle;\n",
       "    }\n",
       "\n",
       "    .dataframe tbody tr th {\n",
       "        vertical-align: top;\n",
       "    }\n",
       "\n",
       "    .dataframe thead th {\n",
       "        text-align: right;\n",
       "    }\n",
       "</style>\n",
       "<table border=\"1\" class=\"dataframe\">\n",
       "  <thead>\n",
       "    <tr style=\"text-align: right;\">\n",
       "      <th></th>\n",
       "      <th>State</th>\n",
       "    </tr>\n",
       "  </thead>\n",
       "  <tbody>\n",
       "    <tr>\n",
       "      <th>count</th>\n",
       "      <td>10</td>\n",
       "    </tr>\n",
       "    <tr>\n",
       "      <th>unique</th>\n",
       "      <td>10</td>\n",
       "    </tr>\n",
       "    <tr>\n",
       "      <th>top</th>\n",
       "      <td>Uttar Pradesh</td>\n",
       "    </tr>\n",
       "    <tr>\n",
       "      <th>freq</th>\n",
       "      <td>1</td>\n",
       "    </tr>\n",
       "  </tbody>\n",
       "</table>\n",
       "</div>"
      ],
      "text/plain": [
       "                State\n",
       "count              10\n",
       "unique             10\n",
       "top     Uttar Pradesh\n",
       "freq                1"
      ]
     },
     "execution_count": 27,
     "metadata": {},
     "output_type": "execute_result"
    }
   ],
   "source": [
    "df.describe(exclude=[np.number])"
   ]
  },
  {
   "cell_type": "code",
   "execution_count": 28,
   "id": "64369780",
   "metadata": {},
   "outputs": [
    {
     "data": {
      "text/html": [
       "<div>\n",
       "<style scoped>\n",
       "    .dataframe tbody tr th:only-of-type {\n",
       "        vertical-align: middle;\n",
       "    }\n",
       "\n",
       "    .dataframe tbody tr th {\n",
       "        vertical-align: top;\n",
       "    }\n",
       "\n",
       "    .dataframe thead th {\n",
       "        text-align: right;\n",
       "    }\n",
       "</style>\n",
       "<table border=\"1\" class=\"dataframe\">\n",
       "  <thead>\n",
       "    <tr style=\"text-align: right;\">\n",
       "      <th></th>\n",
       "      <th>Population</th>\n",
       "      <th>Murder Rate</th>\n",
       "    </tr>\n",
       "  </thead>\n",
       "  <tbody>\n",
       "    <tr>\n",
       "      <th>count</th>\n",
       "      <td>1.000000e+01</td>\n",
       "      <td>10.00000</td>\n",
       "    </tr>\n",
       "    <tr>\n",
       "      <th>mean</th>\n",
       "      <td>8.845814e+07</td>\n",
       "      <td>3.07000</td>\n",
       "    </tr>\n",
       "    <tr>\n",
       "      <th>std</th>\n",
       "      <td>4.456426e+07</td>\n",
       "      <td>2.48911</td>\n",
       "    </tr>\n",
       "    <tr>\n",
       "      <th>min</th>\n",
       "      <td>4.197422e+07</td>\n",
       "      <td>1.60000</td>\n",
       "    </tr>\n",
       "    <tr>\n",
       "      <th>25%</th>\n",
       "      <td>6.295858e+07</td>\n",
       "      <td>1.92500</td>\n",
       "    </tr>\n",
       "    <tr>\n",
       "      <th>50%</th>\n",
       "      <td>7.238692e+07</td>\n",
       "      <td>2.30000</td>\n",
       "    </tr>\n",
       "    <tr>\n",
       "      <th>75%</th>\n",
       "      <td>1.008936e+08</td>\n",
       "      <td>2.85000</td>\n",
       "    </tr>\n",
       "    <tr>\n",
       "      <th>max</th>\n",
       "      <td>2.000000e+08</td>\n",
       "      <td>10.00000</td>\n",
       "    </tr>\n",
       "  </tbody>\n",
       "</table>\n",
       "</div>"
      ],
      "text/plain": [
       "         Population  Murder Rate\n",
       "count  1.000000e+01     10.00000\n",
       "mean   8.845814e+07      3.07000\n",
       "std    4.456426e+07      2.48911\n",
       "min    4.197422e+07      1.60000\n",
       "25%    6.295858e+07      1.92500\n",
       "50%    7.238692e+07      2.30000\n",
       "75%    1.008936e+08      2.85000\n",
       "max    2.000000e+08     10.00000"
      ]
     },
     "execution_count": 28,
     "metadata": {},
     "output_type": "execute_result"
    }
   ],
   "source": [
    "df.describe(include=[np.number])"
   ]
  },
  {
   "cell_type": "code",
   "execution_count": 26,
   "id": "9a176a02",
   "metadata": {},
   "outputs": [
    {
     "data": {
      "text/html": [
       "<div>\n",
       "<style scoped>\n",
       "    .dataframe tbody tr th:only-of-type {\n",
       "        vertical-align: middle;\n",
       "    }\n",
       "\n",
       "    .dataframe tbody tr th {\n",
       "        vertical-align: top;\n",
       "    }\n",
       "\n",
       "    .dataframe thead th {\n",
       "        text-align: right;\n",
       "    }\n",
       "</style>\n",
       "<table border=\"1\" class=\"dataframe\">\n",
       "  <thead>\n",
       "    <tr style=\"text-align: right;\">\n",
       "      <th></th>\n",
       "      <th>Population</th>\n",
       "      <th>Murder Rate</th>\n",
       "    </tr>\n",
       "  </thead>\n",
       "  <tbody>\n",
       "    <tr>\n",
       "      <th>count</th>\n",
       "      <td>1.000000e+01</td>\n",
       "      <td>10.00000</td>\n",
       "    </tr>\n",
       "    <tr>\n",
       "      <th>mean</th>\n",
       "      <td>8.845814e+07</td>\n",
       "      <td>3.07000</td>\n",
       "    </tr>\n",
       "    <tr>\n",
       "      <th>std</th>\n",
       "      <td>4.456426e+07</td>\n",
       "      <td>2.48911</td>\n",
       "    </tr>\n",
       "    <tr>\n",
       "      <th>min</th>\n",
       "      <td>4.197422e+07</td>\n",
       "      <td>1.60000</td>\n",
       "    </tr>\n",
       "    <tr>\n",
       "      <th>25%</th>\n",
       "      <td>6.295858e+07</td>\n",
       "      <td>1.92500</td>\n",
       "    </tr>\n",
       "    <tr>\n",
       "      <th>50%</th>\n",
       "      <td>7.238692e+07</td>\n",
       "      <td>2.30000</td>\n",
       "    </tr>\n",
       "    <tr>\n",
       "      <th>75%</th>\n",
       "      <td>1.008936e+08</td>\n",
       "      <td>2.85000</td>\n",
       "    </tr>\n",
       "    <tr>\n",
       "      <th>max</th>\n",
       "      <td>2.000000e+08</td>\n",
       "      <td>10.00000</td>\n",
       "    </tr>\n",
       "  </tbody>\n",
       "</table>\n",
       "</div>"
      ],
      "text/plain": [
       "         Population  Murder Rate\n",
       "count  1.000000e+01     10.00000\n",
       "mean   8.845814e+07      3.07000\n",
       "std    4.456426e+07      2.48911\n",
       "min    4.197422e+07      1.60000\n",
       "25%    6.295858e+07      1.92500\n",
       "50%    7.238692e+07      2.30000\n",
       "75%    1.008936e+08      2.85000\n",
       "max    2.000000e+08     10.00000"
      ]
     },
     "execution_count": 26,
     "metadata": {},
     "output_type": "execute_result"
    }
   ],
   "source": [
    "df.describe(exclude=[object])"
   ]
  },
  {
   "cell_type": "code",
   "execution_count": 29,
   "id": "53b90ba9",
   "metadata": {},
   "outputs": [
    {
     "data": {
      "text/html": [
       "<div>\n",
       "<style scoped>\n",
       "    .dataframe tbody tr th:only-of-type {\n",
       "        vertical-align: middle;\n",
       "    }\n",
       "\n",
       "    .dataframe tbody tr th {\n",
       "        vertical-align: top;\n",
       "    }\n",
       "\n",
       "    .dataframe thead th {\n",
       "        text-align: right;\n",
       "    }\n",
       "</style>\n",
       "<table border=\"1\" class=\"dataframe\">\n",
       "  <thead>\n",
       "    <tr style=\"text-align: right;\">\n",
       "      <th></th>\n",
       "      <th>State</th>\n",
       "    </tr>\n",
       "  </thead>\n",
       "  <tbody>\n",
       "    <tr>\n",
       "      <th>count</th>\n",
       "      <td>10</td>\n",
       "    </tr>\n",
       "    <tr>\n",
       "      <th>unique</th>\n",
       "      <td>10</td>\n",
       "    </tr>\n",
       "    <tr>\n",
       "      <th>top</th>\n",
       "      <td>Uttar Pradesh</td>\n",
       "    </tr>\n",
       "    <tr>\n",
       "      <th>freq</th>\n",
       "      <td>1</td>\n",
       "    </tr>\n",
       "  </tbody>\n",
       "</table>\n",
       "</div>"
      ],
      "text/plain": [
       "                State\n",
       "count              10\n",
       "unique             10\n",
       "top     Uttar Pradesh\n",
       "freq                1"
      ]
     },
     "execution_count": 29,
     "metadata": {},
     "output_type": "execute_result"
    }
   ],
   "source": [
    "df.describe(include=[object])"
   ]
  },
  {
   "cell_type": "code",
   "execution_count": 16,
   "id": "18c625c6",
   "metadata": {},
   "outputs": [
    {
     "name": "stdout",
     "output_type": "stream",
     "text": [
      "Regular Mean Murder Rate: 3.07\n"
     ]
    }
   ],
   "source": [
    "# Regular mean murder rate\n",
    "regular_mean = df['Murder Rate'].mean()\n",
    "print(f\"Regular Mean Murder Rate:{regular_mean: .2f}\")"
   ]
  },
  {
   "cell_type": "code",
   "execution_count": null,
   "id": "025e6bb8",
   "metadata": {},
   "outputs": [],
   "source": [
    "# Regular Mean: We simply add up all the murder rates and divide by the number of states. \n",
    "# This gives us a basic average but can be influenced by extreme values."
   ]
  },
  {
   "cell_type": "code",
   "execution_count": 22,
   "id": "95817b17",
   "metadata": {},
   "outputs": [
    {
     "name": "stdout",
     "output_type": "stream",
     "text": [
      "Trimmed Mean Murder Rate: 2.39\n"
     ]
    }
   ],
   "source": [
    "# Trimmed mean murder rate with 10% trim\n",
    "#Trimmed Mean: To calculate the trimmed mean, we remove a certain percentage of the highest and lowest rates \n",
    "#before calculating the mean. \n",
    "#This helps to mitigate the effect of outliers or extreme values. \n",
    "#Here, we're using a 10% trim level, meaning we remove the top 10% and bottom 10% of values.\n",
    "from scipy.stats import trim_mean\n",
    "trimmed_mean_rate=trim_mean(df['Murder Rate'],0.1)\n",
    "print(f\"Trimmed Mean Murder Rate:{trimmed_mean_rate: .2f}\")"
   ]
  },
  {
   "cell_type": "code",
   "execution_count": 23,
   "id": "d0fbe7e3",
   "metadata": {},
   "outputs": [
    {
     "name": "stdout",
     "output_type": "stream",
     "text": [
      "Weighted Mean Murder Rate: 2.73\n"
     ]
    }
   ],
   "source": [
    "# Weighted mean murder rate based on population\n",
    "\n",
    "# Weighted Mean: The weighted mean takes into account the population of each state, \n",
    "#                 giving more weight to states with a higher population. \n",
    "# This is often more representative of the actual risk because it considers where more people are living.\n",
    "\n",
    "weighted_mean_rate = np.average(df['Murder Rate'], weights=df['Population'])\n",
    "print(f\"Weighted Mean Murder Rate:{weighted_mean_rate: .2f}\")"
   ]
  },
  {
   "cell_type": "code",
   "execution_count": 28,
   "id": "30c153c5",
   "metadata": {},
   "outputs": [
    {
     "name": "stdout",
     "output_type": "stream",
     "text": [
      "Median Murder Rate: 2.30\n"
     ]
    }
   ],
   "source": [
    "# Calculating the median murder rate from our dataset to determine the central value of the dataset.\n",
    "\n",
    "# Median is the value that falls in the middle of the dataset when it is ordered by size. \n",
    "# It's particularly useful when the data has outliers or is skewed \n",
    "# because it is not influenced by extremely large or small values.\n",
    "\n",
    "median_murder_rate = df['Murder Rate'].median()\n",
    "print(f\"Median Murder Rate: {median_murder_rate:.2f}\")"
   ]
  },
  {
   "cell_type": "code",
   "execution_count": 30,
   "id": "8688eb4e",
   "metadata": {},
   "outputs": [
    {
     "name": "stdout",
     "output_type": "stream",
     "text": [
      "Weighted Median Murder Rate: 2.5\n"
     ]
    }
   ],
   "source": [
    "# Computing the weighted median of the murder rate \n",
    "def calculate_weighted_median(values, weights):\n",
    "    sorted_data, sorted_weights = zip(*sorted(zip(values, weights)))\n",
    "    cum_weights = np.cumsum(sorted_weights)\n",
    "    median_idx = np.searchsorted(cum_weights, cum_weights[-1] / 2.0)\n",
    "    return sorted_data[median_idx]\n",
    "weighted_median_murder_rate = calculate_weighted_median(df['Murder Rate'], df['Population'])\n",
    "print(f\"Weighted Median Murder Rate: {weighted_median_murder_rate}\")"
   ]
  },
  {
   "cell_type": "code",
   "execution_count": 48,
   "id": "7006961a",
   "metadata": {},
   "outputs": [
    {
     "name": "stdout",
     "output_type": "stream",
     "text": [
      "(2.5, 1.8, 3.2, 2.9, 2.7, 1.6, 2.0, 2.1, 1.9, 10.0)\n",
      "(200000000, 112374333, 104099452, 91276115, 72626809, 72147030, 68548437, 61095297, 60439692, 41974218)\n"
     ]
    }
   ],
   "source": [
    "sorted_data, sorted_weights = zip(*(zip(df['Murder Rate'], df['Population'])))\n",
    "print(sorted_data)\n",
    "print(sorted_weights)"
   ]
  },
  {
   "cell_type": "code",
   "execution_count": 51,
   "id": "29e76129",
   "metadata": {},
   "outputs": [
    {
     "name": "stdout",
     "output_type": "stream",
     "text": [
      "(1.6, 1.8, 1.9, 2.0, 2.1, 2.5, 2.7, 2.9, 3.2, 10.0)\n",
      "(72147030, 112374333, 60439692, 68548437, 61095297, 200000000, 72626809, 91276115, 104099452, 41974218)\n",
      "[ 72147030 184521363 244961055 313509492 374604789 574604789 647231598\n",
      " 738507713 842607165 884581383]\n"
     ]
    }
   ],
   "source": [
    "sorted_data, sorted_weights = zip(*sorted(zip(df['Murder Rate'], df['Population'])))\n",
    "print(sorted_data)\n",
    "print(sorted_weights)\n",
    "cum_weights = np.cumsum(sorted_weights)\n",
    "print(cum_weights)"
   ]
  },
  {
   "cell_type": "code",
   "execution_count": 57,
   "id": "a888c494",
   "metadata": {},
   "outputs": [
    {
     "data": {
      "text/plain": [
       "2"
      ]
     },
     "execution_count": 57,
     "metadata": {},
     "output_type": "execute_result"
    }
   ],
   "source": [
    "np.searchsorted([1,2,3,4,5], 3)"
   ]
  },
  {
   "cell_type": "code",
   "execution_count": 59,
   "id": "5b3db46d",
   "metadata": {},
   "outputs": [
    {
     "data": {
      "text/plain": [
       "5"
      ]
     },
     "execution_count": 59,
     "metadata": {},
     "output_type": "execute_result"
    }
   ],
   "source": [
    "median_idx = np.searchsorted(cum_weights, cum_weights[-1] / 2.0)\n",
    "median_idx"
   ]
  },
  {
   "cell_type": "code",
   "execution_count": 60,
   "id": "019a3da3",
   "metadata": {},
   "outputs": [
    {
     "data": {
      "text/plain": [
       "442290691.5"
      ]
     },
     "execution_count": 60,
     "metadata": {},
     "output_type": "execute_result"
    }
   ],
   "source": [
    "c=cum_weights[-1] / 2.0\n",
    "c"
   ]
  },
  {
   "cell_type": "code",
   "execution_count": null,
   "id": "c2681b9a",
   "metadata": {},
   "outputs": [],
   "source": [
    "# Extra explanation\n",
    "\n",
    "#list1 = [1, 3, 2]\n",
    "#list2 = ['a', 'b', 'c']\n",
    "\n",
    "#zipped = zip(list1, list2)\n",
    "\n",
    "#unzipped = list(zip(*zipped))\n",
    "#print(unzipped)\n",
    "\n",
    "# The zip() function in Python combines corresponding elements from multiple iterables into tuples, \n",
    "#  forming an iterator of these tuples.\n",
    "# zip() is often used in combination with the * operator, which is known as the unpacking operator"
   ]
  },
  {
   "cell_type": "code",
   "execution_count": 9,
   "id": "23a42614",
   "metadata": {},
   "outputs": [
    {
     "data": {
      "text/plain": [
       "[1, 3, 2]"
      ]
     },
     "execution_count": 9,
     "metadata": {},
     "output_type": "execute_result"
    }
   ],
   "source": [
    "list1 = [1, 3, 2]\n",
    "list1"
   ]
  },
  {
   "cell_type": "code",
   "execution_count": 10,
   "id": "3e455cc8",
   "metadata": {},
   "outputs": [
    {
     "data": {
      "text/plain": [
       "['a', 'b', 'c']"
      ]
     },
     "execution_count": 10,
     "metadata": {},
     "output_type": "execute_result"
    }
   ],
   "source": [
    "list2 = ['a', 'b', 'c']\n",
    "list2"
   ]
  },
  {
   "cell_type": "code",
   "execution_count": 11,
   "id": "92d79ce4",
   "metadata": {},
   "outputs": [
    {
     "data": {
      "text/plain": [
       "<zip at 0x235d507f340>"
      ]
     },
     "execution_count": 11,
     "metadata": {},
     "output_type": "execute_result"
    }
   ],
   "source": [
    "zipped = zip(list1, list2)\n",
    "zipped\n",
    "# zips the combined list into tuples"
   ]
  },
  {
   "cell_type": "code",
   "execution_count": 12,
   "id": "5da14961",
   "metadata": {},
   "outputs": [
    {
     "data": {
      "text/plain": [
       "[(1, 'a'), (3, 'b'), (2, 'c')]"
      ]
     },
     "execution_count": 12,
     "metadata": {},
     "output_type": "execute_result"
    }
   ],
   "source": [
    "list(zipped)"
   ]
  },
  {
   "cell_type": "code",
   "execution_count": 42,
   "id": "4ab8d6c0",
   "metadata": {},
   "outputs": [
    {
     "name": "stdout",
     "output_type": "stream",
     "text": [
      "[(1, 3, 2), ('a', 'b', 'c')]\n"
     ]
    }
   ],
   "source": [
    "unzipped = list(zip(*zipped))\n",
    "print(unzipped)\n",
    "#*in front will unzip and then zip it again into tuples in list"
   ]
  },
  {
   "cell_type": "code",
   "execution_count": 43,
   "id": "d04c13aa",
   "metadata": {},
   "outputs": [
    {
     "name": "stdout",
     "output_type": "stream",
     "text": [
      "[(1, 3, 2), ('a', 'b', 'c')]\n"
     ]
    }
   ],
   "source": [
    "list1 = [1, 3, 2]\n",
    "list2 = ['a', 'b', 'c']\n",
    "unzipped = list(zip(*(zip(list1, list2))))\n",
    "print(unzipped)"
   ]
  },
  {
   "cell_type": "code",
   "execution_count": 36,
   "id": "08b58cba",
   "metadata": {},
   "outputs": [
    {
     "name": "stdout",
     "output_type": "stream",
     "text": [
      "10th percentile (P10) of Murder Rate: 1.78\n",
      "90th percentile (P90) of Murder Rate: 3.88\n"
     ]
    }
   ],
   "source": [
    "# Calculate 10th and 90th percentile\n",
    "p10 = np.percentile(df['Murder Rate'],10)\n",
    "p90 = np.percentile(df['Murder Rate'],90)\n",
    "\n",
    "print(f\"10th percentile (P10) of Murder Rate: {p10:.2f}\")\n",
    "print(f\"90th percentile (P90) of Murder Rate: {p90:.2f}\")\n",
    "\n",
    "# Over 90% of the States had murder rate <3.88\n",
    "#P10 and P90 provide insights into the lower and upper extremes of the data distribution respectively."
   ]
  },
  {
   "cell_type": "code",
   "execution_count": 40,
   "id": "b8196090",
   "metadata": {},
   "outputs": [
    {
     "name": "stdout",
     "output_type": "stream",
     "text": [
      "First quartile (Q1) of Murder Rate:1.92\n",
      "Median (Q2) of Murder Rate:2.30\n",
      "Third quartile (Q1) of Murder Rate:2.85\n"
     ]
    }
   ],
   "source": [
    "# Calculate the quartiles (Q1, Q2, Q3) for Murder Rate\n",
    "# Quartiles help us understand the spread of the data by dividing the dataset into four equal parts. \n",
    "#  Q1 is the middle number between the smallest number and the median of the dataset, \n",
    "#  Q2 is the median itself, and Q3 is the middle value between the median and the highest value of the dataset.\n",
    "Q1 = np.percentile(df['Murder Rate'],25) # First Quartile (25%)\n",
    "Q2 = np.percentile(df['Murder Rate'],50) # Second Quartile (Median, 50%)\n",
    "Q3 = np.percentile(df['Murder Rate'],75) # Third Quartile (75%)\n",
    "\n",
    "print(f\"First quartile (Q1) of Murder Rate:{Q1:.2f}\")\n",
    "print(f\"Median (Q2) of Murder Rate:{Q2:.2f}\")\n",
    "print(f\"Third quartile (Q1) of Murder Rate:{Q3:.2f}\")\n"
   ]
  },
  {
   "cell_type": "code",
   "execution_count": 42,
   "id": "fb9153f0",
   "metadata": {},
   "outputs": [
    {
     "name": "stdout",
     "output_type": "stream",
     "text": [
      "Mode of Murder Rate: 0     1.6\n",
      "1     1.8\n",
      "2     1.9\n",
      "3     2.0\n",
      "4     2.1\n",
      "5     2.5\n",
      "6     2.7\n",
      "7     2.9\n",
      "8     3.2\n",
      "9    10.0\n",
      "Name: Murder Rate, dtype: float64\n"
     ]
    }
   ],
   "source": [
    "# Calculate the mode of the Murder Rate\n",
    "mode_result = df['Murder Rate'].mode()\n",
    "\n",
    "# Output the mode value and its count\n",
    "print(f\"Mode of Murder Rate: {mode_result}\")"
   ]
  },
  {
   "cell_type": "code",
   "execution_count": null,
   "id": "f90662f1",
   "metadata": {},
   "outputs": [],
   "source": [
    "# The mode, while being a measure of central tendency like the mean and median, has its unique set of limitations and problems. \n",
    "# For nominal data (data that is categorized without a natural order), the mode can be the only measure of central tendency \n",
    "# that makes sense. \n",
    "# However, for interval or ratio data, other measures of central tendency, such as the mean or median, \n",
    "# often give more meaningful insights. \n",
    "# Datasets can have one mode (unimodal), more than one mode (bimodal or multimodal), or no mode at all. \n",
    "# This can sometimes complicate the interpretation, especially in a multimodal distribution, \n",
    "# as it isn't clear which mode is more representative of the data's central tendency."
   ]
  },
  {
   "cell_type": "code",
   "execution_count": null,
   "id": "6c48a0c5",
   "metadata": {},
   "outputs": [],
   "source": [
    "# Measures of Dispersion:\n",
    "\n",
    "#- Deviation -> It is typically the deviation of each value from the mean.\n",
    "#- Range -> The range is the difference between the maximum and minimum values.\n",
    "#- Interquartile Range (IQR)-> IQR is the range between the first quartile (25th percentile) \n",
    "#   and the third quartile (75th percentile) ~ IQR = Q3-Q1\n",
    "#- Variance -> Variance is the average of the squared deviations from the mean.\n",
    "#- Standard Deviation -> Standard deviation is the square root of the variance\n",
    "#- Mean Absolute Deviation -> Mean absolute deviation is the average of the absolute deviations from the mean"
   ]
  },
  {
   "cell_type": "code",
   "execution_count": 8,
   "id": "6787a7d9",
   "metadata": {},
   "outputs": [
    {
     "name": "stdout",
     "output_type": "stream",
     "text": [
      "3.0700000000000003\n"
     ]
    },
    {
     "data": {
      "text/html": [
       "<div>\n",
       "<style scoped>\n",
       "    .dataframe tbody tr th:only-of-type {\n",
       "        vertical-align: middle;\n",
       "    }\n",
       "\n",
       "    .dataframe tbody tr th {\n",
       "        vertical-align: top;\n",
       "    }\n",
       "\n",
       "    .dataframe thead th {\n",
       "        text-align: right;\n",
       "    }\n",
       "</style>\n",
       "<table border=\"1\" class=\"dataframe\">\n",
       "  <thead>\n",
       "    <tr style=\"text-align: right;\">\n",
       "      <th></th>\n",
       "      <th>State</th>\n",
       "      <th>Population</th>\n",
       "      <th>Murder Rate</th>\n",
       "      <th>Simple Deviation</th>\n",
       "    </tr>\n",
       "  </thead>\n",
       "  <tbody>\n",
       "    <tr>\n",
       "      <th>0</th>\n",
       "      <td>Uttar Pradesh</td>\n",
       "      <td>200000000</td>\n",
       "      <td>2.5</td>\n",
       "      <td>-0.57</td>\n",
       "    </tr>\n",
       "    <tr>\n",
       "      <th>1</th>\n",
       "      <td>Maharashtra</td>\n",
       "      <td>112374333</td>\n",
       "      <td>1.8</td>\n",
       "      <td>-1.27</td>\n",
       "    </tr>\n",
       "    <tr>\n",
       "      <th>2</th>\n",
       "      <td>Bihar</td>\n",
       "      <td>104099452</td>\n",
       "      <td>3.2</td>\n",
       "      <td>0.13</td>\n",
       "    </tr>\n",
       "    <tr>\n",
       "      <th>3</th>\n",
       "      <td>West Bengal</td>\n",
       "      <td>91276115</td>\n",
       "      <td>2.9</td>\n",
       "      <td>-0.17</td>\n",
       "    </tr>\n",
       "    <tr>\n",
       "      <th>4</th>\n",
       "      <td>Madhya Pradesh</td>\n",
       "      <td>72626809</td>\n",
       "      <td>2.7</td>\n",
       "      <td>-0.37</td>\n",
       "    </tr>\n",
       "    <tr>\n",
       "      <th>5</th>\n",
       "      <td>Tamil Nadu</td>\n",
       "      <td>72147030</td>\n",
       "      <td>1.6</td>\n",
       "      <td>-1.47</td>\n",
       "    </tr>\n",
       "    <tr>\n",
       "      <th>6</th>\n",
       "      <td>Rajasthan</td>\n",
       "      <td>68548437</td>\n",
       "      <td>2.0</td>\n",
       "      <td>-1.07</td>\n",
       "    </tr>\n",
       "    <tr>\n",
       "      <th>7</th>\n",
       "      <td>Karnataka</td>\n",
       "      <td>61095297</td>\n",
       "      <td>2.1</td>\n",
       "      <td>-0.97</td>\n",
       "    </tr>\n",
       "    <tr>\n",
       "      <th>8</th>\n",
       "      <td>Gujarat</td>\n",
       "      <td>60439692</td>\n",
       "      <td>1.9</td>\n",
       "      <td>-1.17</td>\n",
       "    </tr>\n",
       "    <tr>\n",
       "      <th>9</th>\n",
       "      <td>Goa</td>\n",
       "      <td>41974218</td>\n",
       "      <td>10.0</td>\n",
       "      <td>6.93</td>\n",
       "    </tr>\n",
       "  </tbody>\n",
       "</table>\n",
       "</div>"
      ],
      "text/plain": [
       "            State  Population  Murder Rate  Simple Deviation\n",
       "0   Uttar Pradesh   200000000          2.5             -0.57\n",
       "1     Maharashtra   112374333          1.8             -1.27\n",
       "2           Bihar   104099452          3.2              0.13\n",
       "3     West Bengal    91276115          2.9             -0.17\n",
       "4  Madhya Pradesh    72626809          2.7             -0.37\n",
       "5      Tamil Nadu    72147030          1.6             -1.47\n",
       "6       Rajasthan    68548437          2.0             -1.07\n",
       "7       Karnataka    61095297          2.1             -0.97\n",
       "8         Gujarat    60439692          1.9             -1.17\n",
       "9             Goa    41974218         10.0              6.93"
      ]
     },
     "execution_count": 8,
     "metadata": {},
     "output_type": "execute_result"
    }
   ],
   "source": [
    "murder_mean=df['Murder Rate'].mean()\n",
    "print(murder_mean)\n",
    "df['Simple Deviation'] = df['Murder Rate']-murder_mean\n",
    "df"
   ]
  },
  {
   "cell_type": "code",
   "execution_count": 31,
   "id": "71286de7",
   "metadata": {},
   "outputs": [
    {
     "data": {
      "text/plain": [
       "8.4"
      ]
     },
     "execution_count": 31,
     "metadata": {},
     "output_type": "execute_result"
    }
   ],
   "source": [
    "#The range is the simplest measure of dispersion, calculated as \n",
    "#the difference between the maximum and minimum values in a data set.\n",
    "#It gives a quick sense of the spread of the data but can be influenced greatly by outliers.\n",
    "murder_range=df['Murder Rate'].max()-df['Murder Rate'].min()\n",
    "murder_range"
   ]
  },
  {
   "cell_type": "code",
   "execution_count": 32,
   "id": "0a80a924",
   "metadata": {},
   "outputs": [
    {
     "data": {
      "text/plain": [
       "0.9250000000000003"
      ]
     },
     "execution_count": 32,
     "metadata": {},
     "output_type": "execute_result"
    }
   ],
   "source": [
    "#The Interquartile Range is a measure of dispersion that represents the range within the middle 50% of the data. \n",
    "#It is calculated as the difference between the third quartile (Q3) and the first quartile (Q1) and is not affected by outliers.\n",
    "# IQR\n",
    "\n",
    "Q1 = df['Murder Rate'].quantile(0.25)\n",
    "Q3 = df['Murder Rate'].quantile(0.75)\n",
    "IQR = Q3 - Q1\n",
    "IQR"
   ]
  },
  {
   "cell_type": "code",
   "execution_count": 33,
   "id": "b19c8540",
   "metadata": {},
   "outputs": [
    {
     "data": {
      "text/plain": [
       "6.195666666666666"
      ]
     },
     "execution_count": 33,
     "metadata": {},
     "output_type": "execute_result"
    }
   ],
   "source": [
    "#Variance measures how spread out a data set is. \n",
    "#It's the average of the squared deviations from the mean. \n",
    "#It provides a good overall impression of the spread of the data but is not in the same units as the data, \n",
    "#which can be confusing.\n",
    "\n",
    "# Variance\n",
    "\n",
    "df['Murder Rate'].var()"
   ]
  },
  {
   "cell_type": "code",
   "execution_count": 34,
   "id": "a8cc6c1c",
   "metadata": {},
   "outputs": [
    {
     "data": {
      "text/plain": [
       "2.4891096132285266"
      ]
     },
     "execution_count": 34,
     "metadata": {},
     "output_type": "execute_result"
    }
   ],
   "source": [
    "#The standard deviation is the square root of the variance and is in the same units as the data, \n",
    "#which makes it more interpretable. \n",
    "#It indicates the average amount by which the values in the data set deviate from the mean.\n",
    "\n",
    "# SD\n",
    "\n",
    "df['Murder Rate'].std()"
   ]
  },
  {
   "cell_type": "code",
   "execution_count": 35,
   "id": "158f4f86",
   "metadata": {},
   "outputs": [
    {
     "data": {
      "text/plain": [
       "1.4120000000000001"
      ]
     },
     "execution_count": 35,
     "metadata": {},
     "output_type": "execute_result"
    }
   ],
   "source": [
    "#Mean Absolute Deviation is the average of the absolute deviations from the mean. \n",
    "#It's a more intuitive measure of spread because it's in the same units as the data and \n",
    "#doesn't square the deviations, making it less sensitive to extreme values.\n",
    "# Mean Abs Deviation\n",
    "\n",
    "df['Murder Rate'].mad()"
   ]
  },
  {
   "cell_type": "code",
   "execution_count": null,
   "id": "fe434488",
   "metadata": {},
   "outputs": [],
   "source": [
    "# Skewness\n",
    "\n",
    "#Skewness is a crucial concept in statistics, providing insights into the symmetry and distribution of data. \n",
    "#It measure of the asymmetry of the probability distribution of a real-valued random variable. \n",
    "#The skewness value can be positive, zero, negative, or undefined.\n",
    "\n",
    "#- Positive skew (Right skew): Indicates that the tail on the right side of the distribution is longer \n",
    "#    or fatter than the left side.\n",
    "#    It suggests that there is a larger number of values exceeding the mean.\n",
    "#- Negative skew (Left skew): Indicates that the tail on the left side of the distribution is longer \n",
    "#    or fatter than the right side. \n",
    "#   It shows that there is a larger number of values falling below the mean."
   ]
  },
  {
   "cell_type": "code",
   "execution_count": 5,
   "id": "8926b52e",
   "metadata": {},
   "outputs": [
    {
     "data": {
      "image/png": "[encoded data removed]",
      "text/plain": [
       "<Figure size 640x480 with 1 Axes>"
      ]
     },
     "metadata": {},
     "output_type": "display_data"
    }
   ],
   "source": [
    "import seaborn as sns\n",
    "import matplotlib.pyplot as plt\n",
    "# Right Skewed\n",
    "\n",
    "# Generate some data for the income of people that is right-skewed\n",
    "np.random.seed(0)\n",
    "income_data = np.random.lognormal(mean=2, sigma=0.5, size=1000)  # Lognormal distribution is right-skewed\n",
    "\n",
    "# Plotting histogram with kde\n",
    "sns.histplot(income_data, kde=True, color='blue')\n",
    "plt.xlabel('Income of People in Mumbai')\n",
    "plt.ylabel('Frequency')\n",
    "plt.title('Right-Skewed Distribution of Income')\n",
    "plt.show()\n"
   ]
  },
  {
   "cell_type": "code",
   "execution_count": 7,
   "id": "97f27701",
   "metadata": {},
   "outputs": [
    {
     "data": {
      "image/png": "[encoded data removed]",
      "text/plain": [
       "<Figure size 640x480 with 1 Axes>"
      ]
     },
     "metadata": {},
     "output_type": "display_data"
    }
   ],
   "source": [
    "# Generate a right-skewed data set\n",
    "right_skewed_data = np.random.exponential(scale=2, size=1000)\n",
    "\n",
    "# Subtract the right-skewed data from a constant to create left-skewed data\n",
    "left_skewed_data = 10 - right_skewed_data\n",
    "\n",
    "# Plotting histogram with KDE\n",
    "sns.histplot(left_skewed_data, kde=True, color='green')\n",
    "plt.xlabel('Size of Apples')\n",
    "plt.ylabel('Frequency')\n",
    "plt.title('Left-Skewed Distribution of Apple Sizes')\n",
    "plt.xlim(1, 10)\n",
    "plt.show()"
   ]
  }
 ],
 "metadata": {
  "kernelspec": {
   "display_name": "Python 3 (ipykernel)",
   "language": "python",
   "name": "python3"
  },
  "language_info": {
   "codemirror_mode": {
    "name": "ipython",
    "version": 3
   },
   "file_extension": ".py",
   "mimetype": "text/x-python",
   "name": "python",
   "nbconvert_exporter": "python",
   "pygments_lexer": "ipython3",
   "version": "3.9.13"
  }
 },
 "nbformat": 4,
 "nbformat_minor": 5
}
