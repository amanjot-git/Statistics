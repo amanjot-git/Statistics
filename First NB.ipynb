{
 "cells": [
  {
   "cell_type": "code",
   "execution_count": 1,
   "id": "562eacab",
   "metadata": {},
   "outputs": [
    {
     "data": {
      "text/plain": [
       "'Hello'"
      ]
     },
     "execution_count": 1,
     "metadata": {},
     "output_type": "execute_result"
    }
   ],
   "source": [
    "'Hello'"
   ]
  },
  {
   "cell_type": "code",
   "execution_count": 2,
   "id": "7f6fded6",
   "metadata": {},
   "outputs": [
    {
     "ename": "NameError",
     "evalue": "name 'Hi' is not defined",
     "output_type": "error",
     "traceback": [
      "\u001b[1;31m---------------------------------------------------------------------------\u001b[0m",
      "\u001b[1;31mNameError\u001b[0m                                 Traceback (most recent call last)",
      "\u001b[1;32m~\\AppData\\Local\\Temp\\ipykernel_12996\\3729260243.py\u001b[0m in \u001b[0;36m<module>\u001b[1;34m\u001b[0m\n\u001b[1;32m----> 1\u001b[1;33m \u001b[0mHi\u001b[0m\u001b[1;33m\u001b[0m\u001b[1;33m\u001b[0m\u001b[0m\n\u001b[0m",
      "\u001b[1;31mNameError\u001b[0m: name 'Hi' is not defined"
     ]
    }
   ],
   "source": [
    "Hi"
   ]
  },
  {
   "cell_type": "markdown",
   "id": "b3ec847f",
   "metadata": {},
   "source": [
    "Hi"
   ]
  },
  {
   "cell_type": "raw",
   "id": "3a40728f",
   "metadata": {},
   "source": [
    "Hi"
   ]
  },
  {
   "cell_type": "markdown",
   "id": "3ab3043a",
   "metadata": {},
   "source": [
    "# Hi"
   ]
  },
  {
   "cell_type": "markdown",
   "id": "f1dda88e",
   "metadata": {},
   "source": [
    "## Hi"
   ]
  },
  {
   "cell_type": "code",
   "execution_count": 4,
   "id": "179470dc",
   "metadata": {},
   "outputs": [
    {
     "name": "stdout",
     "output_type": "stream",
     "text": [
      "Hello\n"
     ]
    }
   ],
   "source": [
    "print('Hello')"
   ]
  },
  {
   "cell_type": "code",
   "execution_count": 5,
   "id": "87409590",
   "metadata": {},
   "outputs": [
    {
     "data": {
      "text/plain": [
       "\"I'm against\""
      ]
     },
     "execution_count": 5,
     "metadata": {},
     "output_type": "execute_result"
    }
   ],
   "source": [
    "\"I'm against\""
   ]
  },
  {
   "cell_type": "code",
   "execution_count": 6,
   "id": "fe2e03f4",
   "metadata": {},
   "outputs": [
    {
     "name": "stdout",
     "output_type": "stream",
     "text": [
      "I'm against\n"
     ]
    }
   ],
   "source": [
    "print(\"I'm against\")"
   ]
  },
  {
   "cell_type": "code",
   "execution_count": 7,
   "id": "83c4d668",
   "metadata": {},
   "outputs": [
    {
     "ename": "NameError",
     "evalue": "name 'dtype' is not defined",
     "output_type": "error",
     "traceback": [
      "\u001b[1;31m---------------------------------------------------------------------------\u001b[0m",
      "\u001b[1;31mNameError\u001b[0m                                 Traceback (most recent call last)",
      "\u001b[1;32m~\\AppData\\Local\\Temp\\ipykernel_12996\\4080851422.py\u001b[0m in \u001b[0;36m<module>\u001b[1;34m\u001b[0m\n\u001b[1;32m----> 1\u001b[1;33m \u001b[0mdtype\u001b[0m\u001b[1;33m(\u001b[0m\u001b[1;34m\"I'm against\"\u001b[0m\u001b[1;33m)\u001b[0m\u001b[1;33m\u001b[0m\u001b[1;33m\u001b[0m\u001b[0m\n\u001b[0m",
      "\u001b[1;31mNameError\u001b[0m: name 'dtype' is not defined"
     ]
    }
   ],
   "source": [
    "dtype(\"I'm against\")"
   ]
  },
  {
   "cell_type": "code",
   "execution_count": 8,
   "id": "aa461c07",
   "metadata": {},
   "outputs": [
    {
     "data": {
      "text/plain": [
       "str"
      ]
     },
     "execution_count": 8,
     "metadata": {},
     "output_type": "execute_result"
    }
   ],
   "source": [
    "type(\"I'm against\")"
   ]
  },
  {
   "cell_type": "code",
   "execution_count": 9,
   "id": "09fd29d6",
   "metadata": {},
   "outputs": [
    {
     "name": "stdout",
     "output_type": "stream",
     "text": [
      "I'm against\n"
     ]
    },
    {
     "data": {
      "text/plain": [
       "NoneType"
      ]
     },
     "execution_count": 9,
     "metadata": {},
     "output_type": "execute_result"
    }
   ],
   "source": [
    "type(print(\"I'm against\"))"
   ]
  },
  {
   "cell_type": "code",
   "execution_count": 10,
   "id": "2bb6789f",
   "metadata": {},
   "outputs": [
    {
     "data": {
      "text/plain": [
       "1"
      ]
     },
     "execution_count": 10,
     "metadata": {},
     "output_type": "execute_result"
    }
   ],
   "source": [
    "1"
   ]
  },
  {
   "cell_type": "code",
   "execution_count": 11,
   "id": "3dd44800",
   "metadata": {},
   "outputs": [
    {
     "data": {
      "text/plain": [
       "1.2"
      ]
     },
     "execution_count": 11,
     "metadata": {},
     "output_type": "execute_result"
    }
   ],
   "source": [
    "1.2"
   ]
  },
  {
   "cell_type": "code",
   "execution_count": 12,
   "id": "24ab09f4",
   "metadata": {},
   "outputs": [
    {
     "data": {
      "text/plain": [
       "int"
      ]
     },
     "execution_count": 12,
     "metadata": {},
     "output_type": "execute_result"
    }
   ],
   "source": [
    "type(1)"
   ]
  },
  {
   "cell_type": "code",
   "execution_count": 13,
   "id": "d0d55dbe",
   "metadata": {},
   "outputs": [
    {
     "data": {
      "text/plain": [
       "float"
      ]
     },
     "execution_count": 13,
     "metadata": {},
     "output_type": "execute_result"
    }
   ],
   "source": [
    "type(1.2)"
   ]
  },
  {
   "cell_type": "code",
   "execution_count": 14,
   "id": "11d6db4b",
   "metadata": {},
   "outputs": [
    {
     "data": {
      "text/plain": [
       "float"
      ]
     },
     "execution_count": 14,
     "metadata": {},
     "output_type": "execute_result"
    }
   ],
   "source": [
    "type(1)\n",
    "type(1.2)"
   ]
  },
  {
   "cell_type": "code",
   "execution_count": 15,
   "id": "63507f6e",
   "metadata": {},
   "outputs": [
    {
     "data": {
      "text/plain": [
       "7"
      ]
     },
     "execution_count": 15,
     "metadata": {},
     "output_type": "execute_result"
    }
   ],
   "source": [
    "2+5"
   ]
  },
  {
   "cell_type": "code",
   "execution_count": 16,
   "id": "5c858311",
   "metadata": {},
   "outputs": [
    {
     "name": "stdout",
     "output_type": "stream",
     "text": [
      "7\n"
     ]
    }
   ],
   "source": [
    "print(2+5)"
   ]
  },
  {
   "cell_type": "code",
   "execution_count": 17,
   "id": "8736197b",
   "metadata": {},
   "outputs": [
    {
     "data": {
      "text/plain": [
       "1"
      ]
     },
     "execution_count": 17,
     "metadata": {},
     "output_type": "execute_result"
    }
   ],
   "source": [
    "9-8"
   ]
  },
  {
   "cell_type": "code",
   "execution_count": 18,
   "id": "069cf242",
   "metadata": {},
   "outputs": [
    {
     "data": {
      "text/plain": [
       "25"
      ]
     },
     "execution_count": 18,
     "metadata": {},
     "output_type": "execute_result"
    }
   ],
   "source": [
    "5*5"
   ]
  },
  {
   "cell_type": "code",
   "execution_count": 19,
   "id": "34e9ec67",
   "metadata": {},
   "outputs": [
    {
     "data": {
      "text/plain": [
       "2.8"
      ]
     },
     "execution_count": 19,
     "metadata": {},
     "output_type": "execute_result"
    }
   ],
   "source": [
    "14/5"
   ]
  },
  {
   "cell_type": "code",
   "execution_count": 20,
   "id": "02478691",
   "metadata": {},
   "outputs": [
    {
     "data": {
      "text/plain": [
       "2"
      ]
     },
     "execution_count": 20,
     "metadata": {},
     "output_type": "execute_result"
    }
   ],
   "source": [
    "14//5"
   ]
  },
  {
   "cell_type": "code",
   "execution_count": 21,
   "id": "6e95eaf5",
   "metadata": {},
   "outputs": [
    {
     "data": {
      "text/plain": [
       "27"
      ]
     },
     "execution_count": 21,
     "metadata": {},
     "output_type": "execute_result"
    }
   ],
   "source": [
    "3**3"
   ]
  },
  {
   "cell_type": "code",
   "execution_count": 22,
   "id": "65729f43",
   "metadata": {},
   "outputs": [
    {
     "data": {
      "text/plain": [
       "3.0"
      ]
     },
     "execution_count": 22,
     "metadata": {},
     "output_type": "execute_result"
    }
   ],
   "source": [
    "9**0.5"
   ]
  },
  {
   "cell_type": "code",
   "execution_count": 23,
   "id": "b1f2fbb4",
   "metadata": {},
   "outputs": [
    {
     "data": {
      "text/plain": [
       "'Hello Duo'"
      ]
     },
     "execution_count": 23,
     "metadata": {},
     "output_type": "execute_result"
    }
   ],
   "source": [
    "'Hello Duo'"
   ]
  },
  {
   "cell_type": "code",
   "execution_count": 24,
   "id": "119ba3d9",
   "metadata": {},
   "outputs": [
    {
     "name": "stdout",
     "output_type": "stream",
     "text": [
      "Hello Duo\n"
     ]
    }
   ],
   "source": [
    "print('Hello Duo')"
   ]
  },
  {
   "cell_type": "code",
   "execution_count": 25,
   "id": "1887e2f2",
   "metadata": {},
   "outputs": [
    {
     "name": "stdout",
     "output_type": "stream",
     "text": [
      "3.0\n"
     ]
    }
   ],
   "source": [
    "print(9**0.5)"
   ]
  },
  {
   "cell_type": "code",
   "execution_count": 26,
   "id": "3aad61b0",
   "metadata": {},
   "outputs": [
    {
     "data": {
      "text/plain": [
       "'Hello, the postal code is L7G3S6'"
      ]
     },
     "execution_count": 26,
     "metadata": {},
     "output_type": "execute_result"
    }
   ],
   "source": [
    "'Hello, the postal code is L7G3S6'"
   ]
  },
  {
   "cell_type": "code",
   "execution_count": 27,
   "id": "89aabdd5",
   "metadata": {},
   "outputs": [
    {
     "name": "stdout",
     "output_type": "stream",
     "text": [
      "Hello, the postal code is L7G3S6\n"
     ]
    }
   ],
   "source": [
    "print('Hello, the postal code is L7G3S6')"
   ]
  },
  {
   "cell_type": "code",
   "execution_count": 28,
   "id": "1242c038",
   "metadata": {},
   "outputs": [
    {
     "name": "stdout",
     "output_type": "stream",
     "text": [
      "'Hello, the postal code is L7G3S6'\n"
     ]
    }
   ],
   "source": [
    "print(\"'Hello, the postal code is L7G3S6'\")"
   ]
  },
  {
   "cell_type": "code",
   "execution_count": 29,
   "id": "13246dbe",
   "metadata": {},
   "outputs": [
    {
     "name": "stdout",
     "output_type": "stream",
     "text": [
      "Hello, the postal code is L7G3S6\n"
     ]
    }
   ],
   "source": [
    "print(\"Hello, the postal code is L7G3S6\")"
   ]
  },
  {
   "cell_type": "code",
   "execution_count": 30,
   "id": "4fc9716a",
   "metadata": {},
   "outputs": [
    {
     "ename": "NameError",
     "evalue": "name 'T' is not defined",
     "output_type": "error",
     "traceback": [
      "\u001b[1;31m---------------------------------------------------------------------------\u001b[0m",
      "\u001b[1;31mNameError\u001b[0m                                 Traceback (most recent call last)",
      "\u001b[1;32m~\\AppData\\Local\\Temp\\ipykernel_12996\\2203278621.py\u001b[0m in \u001b[0;36m<module>\u001b[1;34m\u001b[0m\n\u001b[1;32m----> 1\u001b[1;33m \u001b[0mT\u001b[0m\u001b[1;33m\u001b[0m\u001b[1;33m\u001b[0m\u001b[0m\n\u001b[0m",
      "\u001b[1;31mNameError\u001b[0m: name 'T' is not defined"
     ]
    }
   ],
   "source": [
    "T"
   ]
  },
  {
   "cell_type": "code",
   "execution_count": 31,
   "id": "1d7a15a3",
   "metadata": {},
   "outputs": [
    {
     "ename": "NameError",
     "evalue": "name 'true' is not defined",
     "output_type": "error",
     "traceback": [
      "\u001b[1;31m---------------------------------------------------------------------------\u001b[0m",
      "\u001b[1;31mNameError\u001b[0m                                 Traceback (most recent call last)",
      "\u001b[1;32m~\\AppData\\Local\\Temp\\ipykernel_12996\\592217714.py\u001b[0m in \u001b[0;36m<module>\u001b[1;34m\u001b[0m\n\u001b[1;32m----> 1\u001b[1;33m \u001b[0mtrue\u001b[0m\u001b[1;33m\u001b[0m\u001b[1;33m\u001b[0m\u001b[0m\n\u001b[0m",
      "\u001b[1;31mNameError\u001b[0m: name 'true' is not defined"
     ]
    }
   ],
   "source": [
    "true"
   ]
  },
  {
   "cell_type": "code",
   "execution_count": 32,
   "id": "815fabbd",
   "metadata": {},
   "outputs": [
    {
     "data": {
      "text/plain": [
       "True"
      ]
     },
     "execution_count": 32,
     "metadata": {},
     "output_type": "execute_result"
    }
   ],
   "source": [
    "True"
   ]
  },
  {
   "cell_type": "code",
   "execution_count": 33,
   "id": "63a510d6",
   "metadata": {},
   "outputs": [
    {
     "data": {
      "text/plain": [
       "bool"
      ]
     },
     "execution_count": 33,
     "metadata": {},
     "output_type": "execute_result"
    }
   ],
   "source": [
    "type(True)"
   ]
  },
  {
   "cell_type": "code",
   "execution_count": 34,
   "id": "a9d8444a",
   "metadata": {},
   "outputs": [
    {
     "ename": "NameError",
     "evalue": "name 'false' is not defined",
     "output_type": "error",
     "traceback": [
      "\u001b[1;31m---------------------------------------------------------------------------\u001b[0m",
      "\u001b[1;31mNameError\u001b[0m                                 Traceback (most recent call last)",
      "\u001b[1;32m~\\AppData\\Local\\Temp\\ipykernel_12996\\27329152.py\u001b[0m in \u001b[0;36m<module>\u001b[1;34m\u001b[0m\n\u001b[1;32m----> 1\u001b[1;33m \u001b[0mtype\u001b[0m\u001b[1;33m(\u001b[0m\u001b[0mfalse\u001b[0m\u001b[1;33m)\u001b[0m\u001b[1;33m\u001b[0m\u001b[1;33m\u001b[0m\u001b[0m\n\u001b[0m",
      "\u001b[1;31mNameError\u001b[0m: name 'false' is not defined"
     ]
    }
   ],
   "source": [
    "type(false)"
   ]
  },
  {
   "cell_type": "code",
   "execution_count": 35,
   "id": "e83b6759",
   "metadata": {},
   "outputs": [
    {
     "data": {
      "text/plain": [
       "bool"
      ]
     },
     "execution_count": 35,
     "metadata": {},
     "output_type": "execute_result"
    }
   ],
   "source": [
    "type(False)"
   ]
  },
  {
   "cell_type": "code",
   "execution_count": 36,
   "id": "249bb3b6",
   "metadata": {},
   "outputs": [
    {
     "name": "stdout",
     "output_type": "stream",
     "text": [
      "<class 'bool'>\n"
     ]
    }
   ],
   "source": [
    "print(type(False))"
   ]
  },
  {
   "cell_type": "code",
   "execution_count": 37,
   "id": "2a8a9a0e",
   "metadata": {},
   "outputs": [
    {
     "ename": "NameError",
     "evalue": "name 'none' is not defined",
     "output_type": "error",
     "traceback": [
      "\u001b[1;31m---------------------------------------------------------------------------\u001b[0m",
      "\u001b[1;31mNameError\u001b[0m                                 Traceback (most recent call last)",
      "\u001b[1;32m~\\AppData\\Local\\Temp\\ipykernel_12996\\2707358927.py\u001b[0m in \u001b[0;36m<module>\u001b[1;34m\u001b[0m\n\u001b[1;32m----> 1\u001b[1;33m \u001b[0mnone\u001b[0m\u001b[1;33m\u001b[0m\u001b[1;33m\u001b[0m\u001b[0m\n\u001b[0m",
      "\u001b[1;31mNameError\u001b[0m: name 'none' is not defined"
     ]
    }
   ],
   "source": [
    " none"
   ]
  },
  {
   "cell_type": "code",
   "execution_count": 38,
   "id": "3535dad0",
   "metadata": {},
   "outputs": [],
   "source": [
    "None"
   ]
  },
  {
   "cell_type": "code",
   "execution_count": 39,
   "id": "4fa3ae39",
   "metadata": {},
   "outputs": [
    {
     "data": {
      "text/plain": [
       "NoneType"
      ]
     },
     "execution_count": 39,
     "metadata": {},
     "output_type": "execute_result"
    }
   ],
   "source": [
    "type(None)"
   ]
  },
  {
   "cell_type": "code",
   "execution_count": 40,
   "id": "a0fdab1c",
   "metadata": {},
   "outputs": [],
   "source": [
    "a='Hello, how are you doing today?'"
   ]
  },
  {
   "cell_type": "code",
   "execution_count": 41,
   "id": "f75d71cc",
   "metadata": {},
   "outputs": [
    {
     "data": {
      "text/plain": [
       "'Hello, how are you doing today?'"
      ]
     },
     "execution_count": 41,
     "metadata": {},
     "output_type": "execute_result"
    }
   ],
   "source": [
    "a"
   ]
  },
  {
   "cell_type": "code",
   "execution_count": 42,
   "id": "1bc649d5",
   "metadata": {},
   "outputs": [
    {
     "name": "stdout",
     "output_type": "stream",
     "text": [
      "Hello, how are you doing today?\n"
     ]
    }
   ],
   "source": [
    "print(a)"
   ]
  },
  {
   "cell_type": "code",
   "execution_count": 1,
   "id": "bcccbba5",
   "metadata": {},
   "outputs": [],
   "source": [
    "# Variable assignment is assigning a value to a variable in a computer program"
   ]
  },
  {
   "cell_type": "code",
   "execution_count": 2,
   "id": "9748e7ba",
   "metadata": {},
   "outputs": [],
   "source": [
    "a=1"
   ]
  },
  {
   "cell_type": "code",
   "execution_count": 3,
   "id": "03aed41b",
   "metadata": {},
   "outputs": [
    {
     "data": {
      "text/plain": [
       "1"
      ]
     },
     "execution_count": 3,
     "metadata": {},
     "output_type": "execute_result"
    }
   ],
   "source": [
    "a"
   ]
  },
  {
   "cell_type": "code",
   "execution_count": 4,
   "id": "f08bf094",
   "metadata": {},
   "outputs": [],
   "source": [
    "b='Hello, Aman!'"
   ]
  },
  {
   "cell_type": "code",
   "execution_count": 5,
   "id": "3f2b682e",
   "metadata": {},
   "outputs": [
    {
     "data": {
      "text/plain": [
       "'Hello, Aman!'"
      ]
     },
     "execution_count": 5,
     "metadata": {},
     "output_type": "execute_result"
    }
   ],
   "source": [
    "b"
   ]
  },
  {
   "cell_type": "code",
   "execution_count": 6,
   "id": "3a23cc65",
   "metadata": {},
   "outputs": [],
   "source": [
    "b=5"
   ]
  },
  {
   "cell_type": "code",
   "execution_count": 7,
   "id": "ecd82dd6",
   "metadata": {},
   "outputs": [
    {
     "data": {
      "text/plain": [
       "5"
      ]
     },
     "execution_count": 7,
     "metadata": {},
     "output_type": "execute_result"
    }
   ],
   "source": [
    "b"
   ]
  },
  {
   "cell_type": "code",
   "execution_count": 8,
   "id": "a0f8798e",
   "metadata": {},
   "outputs": [],
   "source": [
    "b=b+b"
   ]
  },
  {
   "cell_type": "code",
   "execution_count": 9,
   "id": "fd10f693",
   "metadata": {},
   "outputs": [
    {
     "data": {
      "text/plain": [
       "10"
      ]
     },
     "execution_count": 9,
     "metadata": {},
     "output_type": "execute_result"
    }
   ],
   "source": [
    "b"
   ]
  },
  {
   "cell_type": "code",
   "execution_count": 10,
   "id": "d7834bd7",
   "metadata": {},
   "outputs": [],
   "source": [
    "b='Hello, Aman!'"
   ]
  },
  {
   "cell_type": "code",
   "execution_count": 11,
   "id": "fada78a0",
   "metadata": {},
   "outputs": [],
   "source": [
    "b=b+b"
   ]
  },
  {
   "cell_type": "code",
   "execution_count": 12,
   "id": "2bee2566",
   "metadata": {},
   "outputs": [
    {
     "data": {
      "text/plain": [
       "'Hello, Aman!Hello, Aman!'"
      ]
     },
     "execution_count": 12,
     "metadata": {},
     "output_type": "execute_result"
    }
   ],
   "source": [
    "b"
   ]
  },
  {
   "cell_type": "code",
   "execution_count": 18,
   "id": "6f3c47d8",
   "metadata": {},
   "outputs": [],
   "source": [
    "#Variable name conventions:\n",
    "#hello@\n",
    "#data analyst role ='hello'\n",
    "#data analyst role\t#error\n",
    "#1d = 1\t#error\n",
    "#d1 = 1\n",
    "#DATA= 2345\n",
    "#DATA\n",
    "\n",
    "#Avoid using the characters 'l' (lowercase letter el), 'O' (uppercase letter oh), or \n",
    "#'I' (uppercase letter eye)So that there is no confusion of it with 1 and 0 \n",
    "#Ol= 'Hi' \n",
    "#O1= 'Hi'\n",
    "#Avoid words with special meanings like \"str\" and  \"int\""
   ]
  },
  {
   "cell_type": "code",
   "execution_count": 19,
   "id": "b348888a",
   "metadata": {},
   "outputs": [
    {
     "ename": "SyntaxError",
     "evalue": "invalid syntax (1859429287.py, line 1)",
     "output_type": "error",
     "traceback": [
      "\u001b[1;36m  File \u001b[1;32m\"C:\\Users\\dhill\\AppData\\Local\\Temp\\ipykernel_15944\\1859429287.py\"\u001b[1;36m, line \u001b[1;32m1\u001b[0m\n\u001b[1;33m    first_reply = 'I'm fine, Thank you'\u001b[0m\n\u001b[1;37m                     ^\u001b[0m\n\u001b[1;31mSyntaxError\u001b[0m\u001b[1;31m:\u001b[0m invalid syntax\n"
     ]
    }
   ],
   "source": [
    "first_reply = 'I'm fine, Thank you'"
   ]
  },
  {
   "cell_type": "code",
   "execution_count": 20,
   "id": "2210a24f",
   "metadata": {},
   "outputs": [],
   "source": [
    "first_reply = \"I'm fine, Thank you\""
   ]
  },
  {
   "cell_type": "code",
   "execution_count": 21,
   "id": "c79566d3",
   "metadata": {},
   "outputs": [
    {
     "data": {
      "text/plain": [
       "\"I'm fine, Thank you\""
      ]
     },
     "execution_count": 21,
     "metadata": {},
     "output_type": "execute_result"
    }
   ],
   "source": [
    "first_reply"
   ]
  },
  {
   "cell_type": "code",
   "execution_count": 22,
   "id": "7337af7f",
   "metadata": {},
   "outputs": [],
   "source": [
    "first_question ='Hello, how are you doing today?'"
   ]
  },
  {
   "cell_type": "code",
   "execution_count": 23,
   "id": "b21994be",
   "metadata": {},
   "outputs": [
    {
     "data": {
      "text/plain": [
       "'Hello, how are you doing today?'"
      ]
     },
     "execution_count": 23,
     "metadata": {},
     "output_type": "execute_result"
    }
   ],
   "source": [
    "first_question"
   ]
  },
  {
   "cell_type": "code",
   "execution_count": 24,
   "id": "6c1f2fa0",
   "metadata": {},
   "outputs": [
    {
     "data": {
      "text/plain": [
       "\"I'm fine, Thank you\""
      ]
     },
     "execution_count": 24,
     "metadata": {},
     "output_type": "execute_result"
    }
   ],
   "source": [
    "first_question\n",
    "first_reply"
   ]
  },
  {
   "cell_type": "code",
   "execution_count": 25,
   "id": "c78d91a2",
   "metadata": {},
   "outputs": [
    {
     "name": "stdout",
     "output_type": "stream",
     "text": [
      "Hello, how are you doing today?\n",
      "\n",
      "\n",
      "I'm fine, Thank you\n"
     ]
    }
   ],
   "source": [
    "print(first_question)\n",
    "print(\"\\n\")\n",
    "print(first_reply)"
   ]
  },
  {
   "cell_type": "code",
   "execution_count": 26,
   "id": "0ebdc31b",
   "metadata": {},
   "outputs": [
    {
     "name": "stdout",
     "output_type": "stream",
     "text": [
      "Question 1: Hello, how are you doing today?\n",
      "\n",
      "\n",
      "Answer 1: I'm fine, Thank you\n"
     ]
    }
   ],
   "source": [
    "print(\"Question 1:\", first_question)\n",
    "print(\"\\n\")\n",
    "print(\"Answer 1:\", first_reply)"
   ]
  },
  {
   "cell_type": "code",
   "execution_count": 27,
   "id": "df9dded9",
   "metadata": {},
   "outputs": [
    {
     "ename": "NameError",
     "evalue": "name 'printf' is not defined",
     "output_type": "error",
     "traceback": [
      "\u001b[1;31m---------------------------------------------------------------------------\u001b[0m",
      "\u001b[1;31mNameError\u001b[0m                                 Traceback (most recent call last)",
      "\u001b[1;32m~\\AppData\\Local\\Temp\\ipykernel_15944\\985831103.py\u001b[0m in \u001b[0;36m<module>\u001b[1;34m\u001b[0m\n\u001b[1;32m----> 1\u001b[1;33m \u001b[0mprintf\u001b[0m\u001b[1;33m(\u001b[0m\u001b[1;34m\"First question asked was:\"\u001b[0m\u001b[1;33m,\u001b[0m \u001b[1;33m{\u001b[0m\u001b[0mfirst_question\u001b[0m\u001b[1;33m}\u001b[0m\u001b[1;33m)\u001b[0m\u001b[1;33m\u001b[0m\u001b[1;33m\u001b[0m\u001b[0m\n\u001b[0m",
      "\u001b[1;31mNameError\u001b[0m: name 'printf' is not defined"
     ]
    }
   ],
   "source": [
    "printf(\"First question asked was:\", {first_question})"
   ]
  },
  {
   "cell_type": "code",
   "execution_count": 28,
   "id": "b0c0f6af",
   "metadata": {},
   "outputs": [
    {
     "name": "stdout",
     "output_type": "stream",
     "text": [
      "First question asked was: {'Hello, how are you doing today?'}\n"
     ]
    }
   ],
   "source": [
    "print(\"First question asked was:\", {first_question})"
   ]
  },
  {
   "cell_type": "code",
   "execution_count": 29,
   "id": "d8eb8f19",
   "metadata": {},
   "outputs": [
    {
     "ename": "NameError",
     "evalue": "name 'printf' is not defined",
     "output_type": "error",
     "traceback": [
      "\u001b[1;31m---------------------------------------------------------------------------\u001b[0m",
      "\u001b[1;31mNameError\u001b[0m                                 Traceback (most recent call last)",
      "\u001b[1;32m~\\AppData\\Local\\Temp\\ipykernel_15944\\3453710556.py\u001b[0m in \u001b[0;36m<module>\u001b[1;34m\u001b[0m\n\u001b[1;32m----> 1\u001b[1;33m \u001b[0mprintf\u001b[0m\u001b[1;33m(\u001b[0m\u001b[1;34mf\"First question asked was:\"\u001b[0m\u001b[1;33m,\u001b[0m \u001b[1;33m{\u001b[0m\u001b[0mfirst_question\u001b[0m\u001b[1;33m}\u001b[0m\u001b[1;33m)\u001b[0m\u001b[1;33m\u001b[0m\u001b[1;33m\u001b[0m\u001b[0m\n\u001b[0m",
      "\u001b[1;31mNameError\u001b[0m: name 'printf' is not defined"
     ]
    }
   ],
   "source": [
    "printf(f\"First question asked was:\", {first_question})"
   ]
  },
  {
   "cell_type": "code",
   "execution_count": 30,
   "id": "b4ab57e6",
   "metadata": {},
   "outputs": [
    {
     "name": "stdout",
     "output_type": "stream",
     "text": [
      "First question asked was: {'Hello, how are you doing today?'}\n"
     ]
    }
   ],
   "source": [
    "print(f\"First question asked was:\", {first_question})"
   ]
  },
  {
   "cell_type": "code",
   "execution_count": 31,
   "id": "9bbe8b5e",
   "metadata": {},
   "outputs": [
    {
     "ename": "SyntaxError",
     "evalue": "invalid syntax (1756128906.py, line 1)",
     "output_type": "error",
     "traceback": [
      "\u001b[1;36m  File \u001b[1;32m\"C:\\Users\\dhill\\AppData\\Local\\Temp\\ipykernel_15944\\1756128906.py\"\u001b[1;36m, line \u001b[1;32m1\u001b[0m\n\u001b[1;33m    print(f\"First question asked was:\", {first_question!r})\u001b[0m\n\u001b[1;37m                                                       ^\u001b[0m\n\u001b[1;31mSyntaxError\u001b[0m\u001b[1;31m:\u001b[0m invalid syntax\n"
     ]
    }
   ],
   "source": [
    "print(f\"First question asked was:\", {first_question!r})"
   ]
  },
  {
   "cell_type": "code",
   "execution_count": 32,
   "id": "fe00c45a",
   "metadata": {},
   "outputs": [
    {
     "name": "stdout",
     "output_type": "stream",
     "text": [
      "First question asked was:, Hello, how are you doing today?\n"
     ]
    }
   ],
   "source": [
    "print(f\"First question asked was:, {first_question}\")"
   ]
  },
  {
   "cell_type": "code",
   "execution_count": 33,
   "id": "54b3af8a",
   "metadata": {},
   "outputs": [
    {
     "name": "stdout",
     "output_type": "stream",
     "text": [
      "First question asked was: Hello, how are you doing today?\n"
     ]
    }
   ],
   "source": [
    "print(f\"First question asked was: {first_question}\")"
   ]
  },
  {
   "cell_type": "code",
   "execution_count": 34,
   "id": "1786d4fa",
   "metadata": {},
   "outputs": [
    {
     "name": "stdout",
     "output_type": "stream",
     "text": [
      "First question asked was: 'Hello, how are you doing today?'\n"
     ]
    }
   ],
   "source": [
    "print(f\"First question asked was: {first_question!r}\")"
   ]
  },
  {
   "cell_type": "code",
   "execution_count": 35,
   "id": "c6774a63",
   "metadata": {},
   "outputs": [],
   "source": [
    "text = \"Data Analyst Role\""
   ]
  },
  {
   "cell_type": "code",
   "execution_count": 36,
   "id": "0d8f8ba9",
   "metadata": {},
   "outputs": [
    {
     "data": {
      "text/plain": [
       "'Data Analyst Role'"
      ]
     },
     "execution_count": 36,
     "metadata": {},
     "output_type": "execute_result"
    }
   ],
   "source": [
    "text"
   ]
  },
  {
   "cell_type": "code",
   "execution_count": 37,
   "id": "654e855c",
   "metadata": {},
   "outputs": [],
   "source": [
    "first_character= text[0]"
   ]
  },
  {
   "cell_type": "code",
   "execution_count": 38,
   "id": "678462ab",
   "metadata": {},
   "outputs": [
    {
     "data": {
      "text/plain": [
       "'D'"
      ]
     },
     "execution_count": 38,
     "metadata": {},
     "output_type": "execute_result"
    }
   ],
   "source": [
    "first_character"
   ]
  },
  {
   "cell_type": "code",
   "execution_count": 39,
   "id": "814a1647",
   "metadata": {},
   "outputs": [
    {
     "name": "stdout",
     "output_type": "stream",
     "text": [
      "D\n"
     ]
    }
   ],
   "source": [
    "print(first_character)"
   ]
  },
  {
   "cell_type": "code",
   "execution_count": 40,
   "id": "5006092a",
   "metadata": {},
   "outputs": [],
   "source": [
    "substring = text[5:12]\n",
    "#12 is not inclusive. It will pull characters from 5th position till 11th position"
   ]
  },
  {
   "cell_type": "code",
   "execution_count": 41,
   "id": "541d910c",
   "metadata": {},
   "outputs": [
    {
     "name": "stdout",
     "output_type": "stream",
     "text": [
      "Analyst\n"
     ]
    }
   ],
   "source": [
    "print(substring)"
   ]
  },
  {
   "cell_type": "code",
   "execution_count": 42,
   "id": "21dd5308",
   "metadata": {},
   "outputs": [],
   "source": [
    "substring_second = text[5:12:2]\n",
    "# for pulling charcters from 5th position till 11th position with step size of 2"
   ]
  },
  {
   "cell_type": "code",
   "execution_count": 43,
   "id": "564c88f6",
   "metadata": {},
   "outputs": [
    {
     "name": "stdout",
     "output_type": "stream",
     "text": [
      "Aayt\n"
     ]
    }
   ],
   "source": [
    "print(substring_second)"
   ]
  },
  {
   "cell_type": "code",
   "execution_count": 44,
   "id": "a47d7630",
   "metadata": {},
   "outputs": [
    {
     "name": "stdout",
     "output_type": "stream",
     "text": [
      "Dt nls oe\n"
     ]
    }
   ],
   "source": [
    "every_other_character=text[::2]\n",
    "print(every_other_character)"
   ]
  },
  {
   "cell_type": "code",
   "execution_count": 45,
   "id": "e6c9c867",
   "metadata": {},
   "outputs": [],
   "source": [
    "last_character=text[-1]"
   ]
  },
  {
   "cell_type": "code",
   "execution_count": 46,
   "id": "943aed25",
   "metadata": {},
   "outputs": [
    {
     "name": "stdout",
     "output_type": "stream",
     "text": [
      "e\n"
     ]
    }
   ],
   "source": [
    "print(last_character)"
   ]
  },
  {
   "cell_type": "code",
   "execution_count": 47,
   "id": "3d4f4126",
   "metadata": {},
   "outputs": [],
   "source": [
    "last_three_character=text[-3:]"
   ]
  },
  {
   "cell_type": "code",
   "execution_count": 48,
   "id": "622d28b0",
   "metadata": {},
   "outputs": [
    {
     "name": "stdout",
     "output_type": "stream",
     "text": [
      "ole\n"
     ]
    }
   ],
   "source": [
    "print(last_three_character)"
   ]
  },
  {
   "cell_type": "code",
   "execution_count": 49,
   "id": "19d6aae4",
   "metadata": {},
   "outputs": [
    {
     "name": "stdout",
     "output_type": "stream",
     "text": [
      "17   3\n"
     ]
    }
   ],
   "source": [
    "length_of_string = len(text)\n",
    "length_of_substring= len(last_three_character)\n",
    "print(length_of_string, ' ', length_of_substring)"
   ]
  },
  {
   "cell_type": "code",
   "execution_count": 50,
   "id": "84050a0a",
   "metadata": {},
   "outputs": [],
   "source": [
    "# Important in-built method in String\n",
    "# lower()\n",
    "# upper()\n",
    "# capitalize()\n",
    "# split()\n",
    "# split('a')\n",
    "# text.->presstabhere"
   ]
  },
  {
   "cell_type": "code",
   "execution_count": 51,
   "id": "4ec775f1",
   "metadata": {},
   "outputs": [
    {
     "data": {
      "text/plain": [
       "'data analyst role'"
      ]
     },
     "execution_count": 51,
     "metadata": {},
     "output_type": "execute_result"
    }
   ],
   "source": [
    "text.lower()"
   ]
  },
  {
   "cell_type": "code",
   "execution_count": 52,
   "id": "a31324dd",
   "metadata": {},
   "outputs": [
    {
     "name": "stdout",
     "output_type": "stream",
     "text": [
      "data analyst role\n"
     ]
    }
   ],
   "source": [
    "print(text.lower())"
   ]
  },
  {
   "cell_type": "code",
   "execution_count": 53,
   "id": "13f86a69",
   "metadata": {},
   "outputs": [
    {
     "data": {
      "text/plain": [
       "'DATA ANALYST ROLE'"
      ]
     },
     "execution_count": 53,
     "metadata": {},
     "output_type": "execute_result"
    }
   ],
   "source": [
    "text.upper()"
   ]
  },
  {
   "cell_type": "code",
   "execution_count": 54,
   "id": "5e4632ad",
   "metadata": {},
   "outputs": [
    {
     "data": {
      "text/plain": [
       "'Data analyst role'"
      ]
     },
     "execution_count": 54,
     "metadata": {},
     "output_type": "execute_result"
    }
   ],
   "source": [
    "text.capitalize()"
   ]
  },
  {
   "cell_type": "code",
   "execution_count": 55,
   "id": "a1eb951e",
   "metadata": {},
   "outputs": [
    {
     "data": {
      "text/plain": [
       "['Data', 'Analyst', 'Role']"
      ]
     },
     "execution_count": 55,
     "metadata": {},
     "output_type": "execute_result"
    }
   ],
   "source": [
    "text.split()"
   ]
  },
  {
   "cell_type": "code",
   "execution_count": 56,
   "id": "8d05cdf1",
   "metadata": {},
   "outputs": [
    {
     "data": {
      "text/plain": [
       "['Data', 'Analyst', 'Role']"
      ]
     },
     "execution_count": 56,
     "metadata": {},
     "output_type": "execute_result"
    }
   ],
   "source": [
    "text.split(' ')"
   ]
  },
  {
   "cell_type": "code",
   "execution_count": 57,
   "id": "9b7780ed",
   "metadata": {},
   "outputs": [
    {
     "data": {
      "text/plain": [
       "['D', 't', ' An', 'lyst Role']"
      ]
     },
     "execution_count": 57,
     "metadata": {},
     "output_type": "execute_result"
    }
   ],
   "source": [
    "text.split('a')"
   ]
  },
  {
   "cell_type": "code",
   "execution_count": 58,
   "id": "b54967e2",
   "metadata": {},
   "outputs": [
    {
     "ename": "TypeError",
     "evalue": "unsupported operand type(s) for |: 'str' and 'str'",
     "output_type": "error",
     "traceback": [
      "\u001b[1;31m---------------------------------------------------------------------------\u001b[0m",
      "\u001b[1;31mTypeError\u001b[0m                                 Traceback (most recent call last)",
      "\u001b[1;32m~\\AppData\\Local\\Temp\\ipykernel_15944\\3975397930.py\u001b[0m in \u001b[0;36m<module>\u001b[1;34m\u001b[0m\n\u001b[1;32m----> 1\u001b[1;33m \u001b[0mtext\u001b[0m\u001b[1;33m.\u001b[0m\u001b[0msplit\u001b[0m\u001b[1;33m(\u001b[0m\u001b[1;34m'a'\u001b[0m\u001b[1;33m|\u001b[0m\u001b[1;34m'A'\u001b[0m\u001b[1;33m)\u001b[0m\u001b[1;33m\u001b[0m\u001b[1;33m\u001b[0m\u001b[0m\n\u001b[0m",
      "\u001b[1;31mTypeError\u001b[0m: unsupported operand type(s) for |: 'str' and 'str'"
     ]
    }
   ],
   "source": [
    "text.split('a'|'A')"
   ]
  },
  {
   "cell_type": "code",
   "execution_count": 59,
   "id": "0c7c5fb3",
   "metadata": {},
   "outputs": [
    {
     "data": {
      "text/plain": [
       "['Data ', 'nalyst Role']"
      ]
     },
     "execution_count": 59,
     "metadata": {},
     "output_type": "execute_result"
    }
   ],
   "source": [
    "text.split('A')"
   ]
  },
  {
   "cell_type": "code",
   "execution_count": 60,
   "id": "52c45784",
   "metadata": {},
   "outputs": [],
   "source": [
    "Upper_case_string=text.upper()"
   ]
  },
  {
   "cell_type": "code",
   "execution_count": 61,
   "id": "16e0c0a2",
   "metadata": {},
   "outputs": [
    {
     "data": {
      "text/plain": [
       "['D', 'T', ' ', 'N', 'LYST ROLE']"
      ]
     },
     "execution_count": 61,
     "metadata": {},
     "output_type": "execute_result"
    }
   ],
   "source": [
    "Upper_case_string.split('A')"
   ]
  },
  {
   "cell_type": "code",
   "execution_count": 62,
   "id": "74740a85",
   "metadata": {},
   "outputs": [
    {
     "ename": "TypeError",
     "evalue": "'str' object does not support item assignment",
     "output_type": "error",
     "traceback": [
      "\u001b[1;31m---------------------------------------------------------------------------\u001b[0m",
      "\u001b[1;31mTypeError\u001b[0m                                 Traceback (most recent call last)",
      "\u001b[1;32m~\\AppData\\Local\\Temp\\ipykernel_15944\\3280771935.py\u001b[0m in \u001b[0;36m<module>\u001b[1;34m\u001b[0m\n\u001b[0;32m      1\u001b[0m \u001b[1;31m# You want to change string from 'Data Analyst Role' to 'Bata Analyst Role'\u001b[0m\u001b[1;33m\u001b[0m\u001b[1;33m\u001b[0m\u001b[0m\n\u001b[1;32m----> 2\u001b[1;33m \u001b[0mtext\u001b[0m\u001b[1;33m[\u001b[0m\u001b[1;36m0\u001b[0m\u001b[1;33m]\u001b[0m\u001b[1;33m=\u001b[0m\u001b[1;34m'B'\u001b[0m\u001b[1;33m\u001b[0m\u001b[1;33m\u001b[0m\u001b[0m\n\u001b[0m",
      "\u001b[1;31mTypeError\u001b[0m: 'str' object does not support item assignment"
     ]
    }
   ],
   "source": [
    "# You want to change string from 'Data Analyst Role' to 'Bata Analyst Role'\n",
    "text[0]='B'"
   ]
  },
  {
   "cell_type": "code",
   "execution_count": 63,
   "id": "6ce5b749",
   "metadata": {},
   "outputs": [],
   "source": [
    "# it gives error because strings are immutable"
   ]
  },
  {
   "cell_type": "code",
   "execution_count": 64,
   "id": "db70e2d5",
   "metadata": {},
   "outputs": [],
   "source": [
    "# SOlution for this is:"
   ]
  },
  {
   "cell_type": "code",
   "execution_count": 65,
   "id": "54895446",
   "metadata": {},
   "outputs": [],
   "source": [
    "substring = text[1:]\n",
    "first_char='B'\n",
    "text_new = first_char +substring"
   ]
  },
  {
   "cell_type": "code",
   "execution_count": 66,
   "id": "bd9a8748",
   "metadata": {},
   "outputs": [
    {
     "data": {
      "text/plain": [
       "'Bata Analyst Role'"
      ]
     },
     "execution_count": 66,
     "metadata": {},
     "output_type": "execute_result"
    }
   ],
   "source": [
    "text_new"
   ]
  },
  {
   "cell_type": "code",
   "execution_count": 67,
   "id": "23e0f277",
   "metadata": {},
   "outputs": [
    {
     "name": "stdout",
     "output_type": "stream",
     "text": [
      "Business Intelligence Role\n"
     ]
    }
   ],
   "source": [
    "# Change text 'Data Analyst Role' To 'Business Intelligence Role'\n",
    "substring = text[-4:]\n",
    "front_string = 'Business Intelligence'\n",
    "string_new = front_string+ ' '+ substring\n",
    "print(string_new)"
   ]
  },
  {
   "cell_type": "code",
   "execution_count": 68,
   "id": "199c6408",
   "metadata": {},
   "outputs": [
    {
     "data": {
      "text/plain": [
       "'Bata Analyst RoleBata Analyst RoleBata Analyst RoleBata Analyst RoleBata Analyst RoleBata Analyst RoleBata Analyst RoleBata Analyst RoleBata Analyst RoleBata Analyst RoleBata Analyst RoleBata Analyst RoleBata Analyst RoleBata Analyst RoleBata Analyst Role'"
      ]
     },
     "execution_count": 68,
     "metadata": {},
     "output_type": "execute_result"
    }
   ],
   "source": [
    "text_new*15"
   ]
  },
  {
   "cell_type": "code",
   "execution_count": 69,
   "id": "b411caf8",
   "metadata": {},
   "outputs": [
    {
     "data": {
      "text/plain": [
       "'Data Analyst RoleData Analyst RoleData Analyst RoleData Analyst RoleData Analyst RoleData Analyst RoleData Analyst RoleData Analyst RoleData Analyst RoleData Analyst RoleData Analyst RoleData Analyst RoleData Analyst RoleData Analyst RoleData Analyst Role'"
      ]
     },
     "execution_count": 69,
     "metadata": {},
     "output_type": "execute_result"
    }
   ],
   "source": [
    "text*15"
   ]
  },
  {
   "cell_type": "code",
   "execution_count": 70,
   "id": "6843fd25",
   "metadata": {},
   "outputs": [
    {
     "data": {
      "text/plain": [
       "'Business Intelligence Role'"
      ]
     },
     "execution_count": 70,
     "metadata": {},
     "output_type": "execute_result"
    }
   ],
   "source": [
    "string_new"
   ]
  },
  {
   "cell_type": "code",
   "execution_count": 71,
   "id": "78a6cc59",
   "metadata": {},
   "outputs": [
    {
     "data": {
      "text/plain": [
       "'Business Intelligence RoleBusiness Intelligence RoleBusiness Intelligence RoleBusiness Intelligence RoleBusiness Intelligence RoleBusiness Intelligence RoleBusiness Intelligence RoleBusiness Intelligence RoleBusiness Intelligence RoleBusiness Intelligence RoleBusiness Intelligence RoleBusiness Intelligence RoleBusiness Intelligence RoleBusiness Intelligence RoleBusiness Intelligence Role'"
      ]
     },
     "execution_count": 71,
     "metadata": {},
     "output_type": "execute_result"
    }
   ],
   "source": [
    "string_new*15"
   ]
  },
  {
   "cell_type": "code",
   "execution_count": 72,
   "id": "281e8e76",
   "metadata": {},
   "outputs": [],
   "source": [
    "# A laptop store has provided a snapshot of the details of laptop sold by them.\n",
    "\n",
    "# | Brand  | RAM (in GB) | SSD (in GB) | Price (in rupees) |\n",
    "# | ---    | ---        | ---          | --- |\n",
    "# | Dell   |   8       |  512          | 42490 |\n",
    "# | Apple  |   8       |  256          | 84990 |\n",
    "# | Lenovo |   4       |  256          | 19900 |\n",
    "# | Apple  |   8       |  512          | 149900 |\n"
   ]
  },
  {
   "cell_type": "code",
   "execution_count": 83,
   "id": "da10a992",
   "metadata": {},
   "outputs": [],
   "source": [
    "brand=\"Dell\""
   ]
  },
  {
   "cell_type": "code",
   "execution_count": 84,
   "id": "e3f1c829",
   "metadata": {},
   "outputs": [
    {
     "data": {
      "text/plain": [
       "'Dell'"
      ]
     },
     "execution_count": 84,
     "metadata": {},
     "output_type": "execute_result"
    }
   ],
   "source": [
    "brand"
   ]
  },
  {
   "cell_type": "code",
   "execution_count": 79,
   "id": "bba9f75a",
   "metadata": {},
   "outputs": [],
   "source": [
    "brand_list=['Dell','Apple','Lenovo','Apple']"
   ]
  },
  {
   "cell_type": "code",
   "execution_count": 80,
   "id": "d1e40f9c",
   "metadata": {},
   "outputs": [
    {
     "data": {
      "text/plain": [
       "['Dell', 'Apple', 'Lenovo', 'Apple']"
      ]
     },
     "execution_count": 80,
     "metadata": {},
     "output_type": "execute_result"
    }
   ],
   "source": [
    "brand_list"
   ]
  },
  {
   "cell_type": "code",
   "execution_count": 77,
   "id": "ed74197c",
   "metadata": {},
   "outputs": [],
   "source": [
    "# A list is a collection of items, where each item has a specific position or index within the collection. \n",
    "#It can contain any type of data, such as numbers, strings, or other objects.\n",
    "#Lists are useful for storing and organizing data, and they can be easily accessed and modified by their index. "
   ]
  },
  {
   "cell_type": "code",
   "execution_count": 85,
   "id": "9a8e665b",
   "metadata": {},
   "outputs": [
    {
     "data": {
      "text/plain": [
       "str"
      ]
     },
     "execution_count": 85,
     "metadata": {},
     "output_type": "execute_result"
    }
   ],
   "source": [
    "type(brand)"
   ]
  },
  {
   "cell_type": "code",
   "execution_count": 86,
   "id": "ec6757f5",
   "metadata": {},
   "outputs": [
    {
     "data": {
      "text/plain": [
       "list"
      ]
     },
     "execution_count": 86,
     "metadata": {},
     "output_type": "execute_result"
    }
   ],
   "source": [
    "type(brand_list)"
   ]
  },
  {
   "cell_type": "code",
   "execution_count": 87,
   "id": "a6d3586d",
   "metadata": {},
   "outputs": [],
   "source": [
    "# Creating lists for other attributes"
   ]
  },
  {
   "cell_type": "code",
   "execution_count": 88,
   "id": "378288e1",
   "metadata": {},
   "outputs": [
    {
     "name": "stdout",
     "output_type": "stream",
     "text": [
      "Brand List: ['Dell', 'Apple', 'Lenovo', 'Apple']\n",
      "RAM List: [8, 8, 4, 8]\n",
      "SSD List: [512, 256, 256, 512]\n",
      "Price List: [42490, 84990, 19900, 149900]\n"
     ]
    }
   ],
   "source": [
    "ram_list = [8, 8, 4, 8]\n",
    "ssd_list = [512, 256, 256, 512]\n",
    "price_list = [42490, 84990, 19900, 149900]\n",
    "print('Brand List:',brand_list)\n",
    "print('RAM List:',ram_list)\n",
    "print('SSD List:',ssd_list)\n",
    "print('Price List:',price_list)"
   ]
  },
  {
   "cell_type": "code",
   "execution_count": 90,
   "id": "c296f3a8",
   "metadata": {},
   "outputs": [
    {
     "name": "stdout",
     "output_type": "stream",
     "text": [
      "['Apple', 8, 9.1273]\n"
     ]
    }
   ],
   "source": [
    "diff_data =['Apple',8, 9.1273]\n",
    "print(diff_data)\n",
    "\n",
    "# Q. How many records are stored in the list brand_list?\n",
    "# Q. Find the minimum and maximum price among the laptop sold.\n",
    "# Q. Print the third item in the list ram_list.\n",
    "# Q. Print the first three items from the list price_list.\n",
    "# Q. Print the last item in the list brand_list.\n",
    "# Q. Remove the last element from the list brand_list."
   ]
  },
  {
   "cell_type": "code",
   "execution_count": 91,
   "id": "adc78f29",
   "metadata": {},
   "outputs": [
    {
     "data": {
      "text/plain": [
       "4"
      ]
     },
     "execution_count": 91,
     "metadata": {},
     "output_type": "execute_result"
    }
   ],
   "source": [
    "# Q. How many records are stored in the list brand_list?\n",
    "len(brand_list)"
   ]
  },
  {
   "cell_type": "code",
   "execution_count": 92,
   "id": "b605aca6",
   "metadata": {},
   "outputs": [
    {
     "data": {
      "text/plain": [
       "149900"
      ]
     },
     "execution_count": 92,
     "metadata": {},
     "output_type": "execute_result"
    }
   ],
   "source": [
    "# Q. Find the minimum and maximum price among the laptop sold.\n",
    "min(price_list)\n",
    "max(price_list)"
   ]
  },
  {
   "cell_type": "code",
   "execution_count": 93,
   "id": "3cff79b8",
   "metadata": {},
   "outputs": [
    {
     "name": "stdout",
     "output_type": "stream",
     "text": [
      "Minimum price is : 19900   Maximum price is : 149900\n"
     ]
    }
   ],
   "source": [
    "print('Minimum price is :',min(price_list),' ' ,'Maximum price is :',max(price_list))"
   ]
  },
  {
   "cell_type": "code",
   "execution_count": 94,
   "id": "42a683ff",
   "metadata": {},
   "outputs": [
    {
     "data": {
      "text/plain": [
       "4"
      ]
     },
     "execution_count": 94,
     "metadata": {},
     "output_type": "execute_result"
    }
   ],
   "source": [
    "# Q. Print the third item in the list ram_list.\n",
    "ram_list[2]"
   ]
  },
  {
   "cell_type": "code",
   "execution_count": 95,
   "id": "02e87278",
   "metadata": {},
   "outputs": [
    {
     "name": "stdout",
     "output_type": "stream",
     "text": [
      "4\n"
     ]
    }
   ],
   "source": [
    "print(ram_list[-2])"
   ]
  },
  {
   "cell_type": "code",
   "execution_count": 96,
   "id": "42f1889d",
   "metadata": {},
   "outputs": [
    {
     "data": {
      "text/plain": [
       "[42490, 84990, 19900]"
      ]
     },
     "execution_count": 96,
     "metadata": {},
     "output_type": "execute_result"
    }
   ],
   "source": [
    "# Q. Print the first three items from the list price_list.\n",
    "price_list[:3]"
   ]
  },
  {
   "cell_type": "code",
   "execution_count": 97,
   "id": "93ea6126",
   "metadata": {},
   "outputs": [
    {
     "data": {
      "text/plain": [
       "149900"
      ]
     },
     "execution_count": 97,
     "metadata": {},
     "output_type": "execute_result"
    }
   ],
   "source": [
    "# Q. Print the last item in the list brand_list.\n",
    "price_list[-1]"
   ]
  },
  {
   "cell_type": "code",
   "execution_count": 98,
   "id": "84b6485c",
   "metadata": {},
   "outputs": [
    {
     "data": {
      "text/plain": [
       "'Apple'"
      ]
     },
     "execution_count": 98,
     "metadata": {},
     "output_type": "execute_result"
    }
   ],
   "source": [
    "# Q. Remove the last element from the list brand_list.\n",
    "brand_list[-1]"
   ]
  },
  {
   "cell_type": "code",
   "execution_count": 114,
   "id": "18a29da9",
   "metadata": {},
   "outputs": [
    {
     "data": {
      "text/plain": [
       "'Apple'"
      ]
     },
     "execution_count": 114,
     "metadata": {},
     "output_type": "execute_result"
    }
   ],
   "source": [
    "brand_list.pop()"
   ]
  },
  {
   "cell_type": "code",
   "execution_count": 100,
   "id": "2b2a49be",
   "metadata": {},
   "outputs": [
    {
     "data": {
      "text/plain": [
       "['Dell', 'Apple', 'Lenovo']"
      ]
     },
     "execution_count": 100,
     "metadata": {},
     "output_type": "execute_result"
    }
   ],
   "source": [
    "brand_list"
   ]
  },
  {
   "cell_type": "code",
   "execution_count": 116,
   "id": "f04e11d2",
   "metadata": {},
   "outputs": [],
   "source": [
    "brand_list.append('HP')"
   ]
  },
  {
   "cell_type": "code",
   "execution_count": 117,
   "id": "88d0d1e3",
   "metadata": {},
   "outputs": [
    {
     "data": {
      "text/plain": [
       "['Dell', 'Apple', 'Lenovo', 'HP']"
      ]
     },
     "execution_count": 117,
     "metadata": {},
     "output_type": "execute_result"
    }
   ],
   "source": [
    "brand_list"
   ]
  },
  {
   "cell_type": "code",
   "execution_count": 119,
   "id": "db36c28f",
   "metadata": {},
   "outputs": [],
   "source": [
    "brand_list[3]='Apple'"
   ]
  },
  {
   "cell_type": "code",
   "execution_count": 120,
   "id": "c1f90e6b",
   "metadata": {},
   "outputs": [
    {
     "data": {
      "text/plain": [
       "['Dell', 'Apple', 'Lenovo', 'Apple']"
      ]
     },
     "execution_count": 120,
     "metadata": {},
     "output_type": "execute_result"
    }
   ],
   "source": [
    "brand_list"
   ]
  },
  {
   "cell_type": "code",
   "execution_count": 121,
   "id": "da0947e8",
   "metadata": {},
   "outputs": [
    {
     "data": {
      "text/plain": [
       "['Apple', 'Lenovo', 'Apple', 'Dell']"
      ]
     },
     "execution_count": 121,
     "metadata": {},
     "output_type": "execute_result"
    }
   ],
   "source": [
    "brand_list.reverse()\n",
    "brand_list"
   ]
  },
  {
   "cell_type": "code",
   "execution_count": 122,
   "id": "c8eef0b9",
   "metadata": {},
   "outputs": [
    {
     "data": {
      "text/plain": [
       "['Apple', 'Apple', 'Dell', 'Lenovo']"
      ]
     },
     "execution_count": 122,
     "metadata": {},
     "output_type": "execute_result"
    }
   ],
   "source": [
    "brand_list.sort()\n",
    "brand_list"
   ]
  },
  {
   "cell_type": "code",
   "execution_count": 123,
   "id": "1855225d",
   "metadata": {},
   "outputs": [
    {
     "data": {
      "text/plain": [
       "list"
      ]
     },
     "execution_count": 123,
     "metadata": {},
     "output_type": "execute_result"
    }
   ],
   "source": [
    "type(brand_list)"
   ]
  },
  {
   "cell_type": "code",
   "execution_count": 124,
   "id": "7fab4c3a",
   "metadata": {},
   "outputs": [],
   "source": [
    "#A list is a fundamental data structure in programming that allows you to store a collection of items. \n",
    "#Unlike other data structures, lists are mutable, which means you can add, remove, or modify elements within them. \n",
    "#However, there may be cases where you want to store data that should not be changed, such as ssd storage of laptop. \n",
    "#For example, a ssd storage may be of 512 GB, 256 GB, and \n",
    "#you wouldn't want to accidentally modify the storage value of 512 GB to 510 GB. \n",
    "#In such cases, it's important to use other data structures, like tuples, that ensure the data remains immutable. \n",
    "#Tuple provides a convenient source of data integrity."
   ]
  },
  {
   "cell_type": "code",
   "execution_count": 125,
   "id": "c6a4004c",
   "metadata": {},
   "outputs": [],
   "source": [
    "storage = (512, 256,256, 512)"
   ]
  },
  {
   "cell_type": "code",
   "execution_count": 126,
   "id": "8a3f19c6",
   "metadata": {},
   "outputs": [
    {
     "data": {
      "text/plain": [
       "(512, 256, 256, 512)"
      ]
     },
     "execution_count": 126,
     "metadata": {},
     "output_type": "execute_result"
    }
   ],
   "source": [
    "storage"
   ]
  },
  {
   "cell_type": "code",
   "execution_count": 127,
   "id": "3bcaeb16",
   "metadata": {},
   "outputs": [
    {
     "data": {
      "text/plain": [
       "tuple"
      ]
     },
     "execution_count": 127,
     "metadata": {},
     "output_type": "execute_result"
    }
   ],
   "source": [
    "type(storage)"
   ]
  },
  {
   "cell_type": "code",
   "execution_count": 128,
   "id": "efd2d80d",
   "metadata": {},
   "outputs": [
    {
     "data": {
      "text/plain": [
       "4"
      ]
     },
     "execution_count": 128,
     "metadata": {},
     "output_type": "execute_result"
    }
   ],
   "source": [
    "len(storage)"
   ]
  },
  {
   "cell_type": "code",
   "execution_count": 129,
   "id": "6cce55df",
   "metadata": {},
   "outputs": [
    {
     "ename": "TypeError",
     "evalue": "'tuple' object does not support item assignment",
     "output_type": "error",
     "traceback": [
      "\u001b[1;31m---------------------------------------------------------------------------\u001b[0m",
      "\u001b[1;31mTypeError\u001b[0m                                 Traceback (most recent call last)",
      "\u001b[1;32m~\\AppData\\Local\\Temp\\ipykernel_15944\\1971136655.py\u001b[0m in \u001b[0;36m<module>\u001b[1;34m\u001b[0m\n\u001b[1;32m----> 1\u001b[1;33m \u001b[0mstorage\u001b[0m\u001b[1;33m[\u001b[0m\u001b[1;36m1\u001b[0m\u001b[1;33m]\u001b[0m\u001b[1;33m=\u001b[0m\u001b[1;36m60\u001b[0m\u001b[1;33m\u001b[0m\u001b[1;33m\u001b[0m\u001b[0m\n\u001b[0m",
      "\u001b[1;31mTypeError\u001b[0m: 'tuple' object does not support item assignment"
     ]
    }
   ],
   "source": [
    "storage[1]=60"
   ]
  },
  {
   "cell_type": "code",
   "execution_count": 130,
   "id": "2ca34ec8",
   "metadata": {},
   "outputs": [
    {
     "data": {
      "text/plain": [
       "512"
      ]
     },
     "execution_count": 130,
     "metadata": {},
     "output_type": "execute_result"
    }
   ],
   "source": [
    "storage[0]"
   ]
  },
  {
   "cell_type": "code",
   "execution_count": 131,
   "id": "84ef83bb",
   "metadata": {},
   "outputs": [
    {
     "data": {
      "text/plain": [
       "512"
      ]
     },
     "execution_count": 131,
     "metadata": {},
     "output_type": "execute_result"
    }
   ],
   "source": [
    "storage[-1]"
   ]
  },
  {
   "cell_type": "code",
   "execution_count": 133,
   "id": "12a8dca1",
   "metadata": {},
   "outputs": [
    {
     "data": {
      "text/plain": [
       "(512, 256)"
      ]
     },
     "execution_count": 133,
     "metadata": {},
     "output_type": "execute_result"
    }
   ],
   "source": [
    "storage[:2]"
   ]
  },
  {
   "cell_type": "code",
   "execution_count": null,
   "id": "8dd9a312",
   "metadata": {},
   "outputs": [],
   "source": []
  }
 ],
 "metadata": {
  "kernelspec": {
   "display_name": "Python 3 (ipykernel)",
   "language": "python",
   "name": "python3"
  },
  "language_info": {
   "codemirror_mode": {
    "name": "ipython",
    "version": 3
   },
   "file_extension": ".py",
   "mimetype": "text/x-python",
   "name": "python",
   "nbconvert_exporter": "python",
   "pygments_lexer": "ipython3",
   "version": "3.9.13"
  }
 },
 "nbformat": 4,
 "nbformat_minor": 5
}
